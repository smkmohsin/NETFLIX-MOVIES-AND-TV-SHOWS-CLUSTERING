{
  "nbformat": 4,
  "nbformat_minor": 0,
  "metadata": {
    "colab": {
      "name": "NETFLIX MOVIES AND TV SHOWS CLUSTERING.ipynb",
      "provenance": [],
      "collapsed_sections": [],
      "include_colab_link": true
    },
    "kernelspec": {
      "name": "python3",
      "display_name": "Python 3"
    },
    "language_info": {
      "name": "python"
    }
  },
  "cells": [
    {
      "cell_type": "markdown",
      "metadata": {
        "id": "view-in-github",
        "colab_type": "text"
      },
      "source": [
        "<a href=\"https://colab.research.google.com/github/smkmohsin/NETFLIX-MOVIES-AND-TV-SHOWS-CLUSTERING/blob/main/NETFLIX_MOVIES_AND_TV_SHOWS_CLUSTERING.ipynb\" target=\"_parent\"><img src=\"https://colab.research.google.com/assets/colab-badge.svg\" alt=\"Open In Colab\"/></a>"
      ]
    },
    {
      "cell_type": "markdown",
      "metadata": {
        "id": "LGcl5Bv9ed6u"
      },
      "source": [
        "# **Problem Statement**"
      ]
    },
    {
      "cell_type": "markdown",
      "metadata": {
        "id": "8M5kyFaVjzXk"
      },
      "source": [
        "This dataset consists of tv shows and movies available on Netflix as of 2019. The dataset is collected from Flixable which is a third-party Netflix search engine.\n",
        "\n",
        "In 2018, they released an interesting report which shows that the number of TV shows on Netflix has nearly tripled since 2010. The streaming service’s number of movies has decreased by more than 2,000 titles since 2010, while its number of TV shows has nearly tripled. It will be interesting to explore what all other insights can be obtained from the same dataset.\n",
        "\n",
        "Integrating this dataset with other external datasets such as IMDB ratings, rotten tomatoes can also provide many interesting findings."
      ]
    },
    {
      "cell_type": "markdown",
      "metadata": {
        "id": "tLx5cJO8hzb1"
      },
      "source": [
        "## <b>In this  project, you are required to do </b>\n",
        "1. Exploratory Data Analysis \n",
        "\n",
        "2. Understanding what type content is available in different countries\n",
        "\n",
        "3. Is Netflix has increasingly focusing on TV rather than movies in recent years.\n",
        "4. Clustering similar content by matching text-based features\n",
        "\n"
      ]
    },
    {
      "cell_type": "markdown",
      "metadata": {
        "id": "AzGDqdC4fZ-b"
      },
      "source": [
        "# **Attribute Information**"
      ]
    },
    {
      "cell_type": "markdown",
      "metadata": {
        "id": "jhfLYargscGV"
      },
      "source": [
        "1. show_id : Unique ID for every Movie / Tv Show\n",
        "\n",
        "2. type : Identifier - A Movie or TV Show\n",
        "\n",
        "3. title : Title of the Movie / Tv Show\n",
        "\n",
        "4. director : Director of the Movie\n",
        "\n",
        "5. cast : Actors involved in the movie / show\n",
        "\n",
        "6. country : Country where the movie / show was produced\n",
        "\n",
        "7. date_added : Date it was added on Netflix\n",
        "\n",
        "8. release_year : Actual Releaseyear of the movie / show\n",
        "\n",
        "9. rating : TV Rating of the movie / show\n",
        "\n",
        "10. duration : Total Duration - in minutes or number of seasons\n",
        "\n",
        "11. listed_in : Genere\n",
        "\n",
        "12. description: The Summary description"
      ]
    },
    {
      "cell_type": "code",
      "metadata": {
        "id": "CVAniFuGmDWY"
      },
      "source": [
        "import numpy as np\n",
        "import pandas as pd\n",
        "from IPython.display import display\n",
        "from tqdm import tqdm\n",
        "from collections import Counter\n",
        "import ast\n",
        "\n",
        "import matplotlib.pyplot as plt\n",
        "import matplotlib.mlab as mlab\n",
        "import seaborn as sns\n",
        "from matplotlib import rcParams\n",
        "\n",
        "from sklearn.feature_extraction.text import CountVectorizer\n",
        "from textblob import TextBlob\n",
        "import scipy.stats as stats\n",
        "\n",
        "from sklearn.decomposition import TruncatedSVD\n",
        "from sklearn.decomposition import LatentDirichletAllocation\n",
        "from sklearn.manifold import TSNE\n",
        "from sklearn.feature_extraction.text import CountVectorizer, TfidfVectorizer\n",
        "\n",
        "from nltk.stem.snowball import SnowballStemmer\n",
        "\n",
        "\n",
        "%matplotlib inline"
      ],
      "execution_count": 53,
      "outputs": []
    },
    {
      "cell_type": "code",
      "metadata": {
        "colab": {
          "base_uri": "https://localhost:8080/"
        },
        "id": "9ji-95demKyh",
        "outputId": "de958c42-4633-437b-cf15-15efda84f748"
      },
      "source": [
        "from google.colab import drive\n",
        "drive.mount('/content/drive')"
      ],
      "execution_count": 4,
      "outputs": [
        {
          "output_type": "stream",
          "name": "stdout",
          "text": [
            "Drive already mounted at /content/drive; to attempt to forcibly remount, call drive.mount(\"/content/drive\", force_remount=True).\n"
          ]
        }
      ]
    },
    {
      "cell_type": "code",
      "metadata": {
        "id": "4tN2gKubmEYQ"
      },
      "source": [
        "# Importing the dataset\n",
        "dataset = pd.read_csv('/content/drive/MyDrive/Almabetter/Module 4/Capstone Project 3/NETFLIX_MOVIES_AND_TV_SHOWS_CLUSTERING.csv')"
      ],
      "execution_count": 5,
      "outputs": []
    },
    {
      "cell_type": "markdown",
      "metadata": {
        "id": "FEQ5OTDT1SEV"
      },
      "source": [
        "# <b> Exploratory Data Analysis"
      ]
    },
    {
      "cell_type": "code",
      "metadata": {
        "colab": {
          "base_uri": "https://localhost:8080/",
          "height": 374
        },
        "id": "0gJyOJMNnJUS",
        "outputId": "5b7b705a-7d9f-4950-c660-ff8fab3d6cf3"
      },
      "source": [
        "dataset.head()"
      ],
      "execution_count": 6,
      "outputs": [
        {
          "output_type": "execute_result",
          "data": {
            "text/html": [
              "<div>\n",
              "<style scoped>\n",
              "    .dataframe tbody tr th:only-of-type {\n",
              "        vertical-align: middle;\n",
              "    }\n",
              "\n",
              "    .dataframe tbody tr th {\n",
              "        vertical-align: top;\n",
              "    }\n",
              "\n",
              "    .dataframe thead th {\n",
              "        text-align: right;\n",
              "    }\n",
              "</style>\n",
              "<table border=\"1\" class=\"dataframe\">\n",
              "  <thead>\n",
              "    <tr style=\"text-align: right;\">\n",
              "      <th></th>\n",
              "      <th>show_id</th>\n",
              "      <th>type</th>\n",
              "      <th>title</th>\n",
              "      <th>director</th>\n",
              "      <th>cast</th>\n",
              "      <th>country</th>\n",
              "      <th>date_added</th>\n",
              "      <th>release_year</th>\n",
              "      <th>rating</th>\n",
              "      <th>duration</th>\n",
              "      <th>listed_in</th>\n",
              "      <th>description</th>\n",
              "    </tr>\n",
              "  </thead>\n",
              "  <tbody>\n",
              "    <tr>\n",
              "      <th>0</th>\n",
              "      <td>s1</td>\n",
              "      <td>TV Show</td>\n",
              "      <td>3%</td>\n",
              "      <td>NaN</td>\n",
              "      <td>João Miguel, Bianca Comparato, Michel Gomes, R...</td>\n",
              "      <td>Brazil</td>\n",
              "      <td>August 14, 2020</td>\n",
              "      <td>2020</td>\n",
              "      <td>TV-MA</td>\n",
              "      <td>4 Seasons</td>\n",
              "      <td>International TV Shows, TV Dramas, TV Sci-Fi &amp;...</td>\n",
              "      <td>In a future where the elite inhabit an island ...</td>\n",
              "    </tr>\n",
              "    <tr>\n",
              "      <th>1</th>\n",
              "      <td>s2</td>\n",
              "      <td>Movie</td>\n",
              "      <td>7:19</td>\n",
              "      <td>Jorge Michel Grau</td>\n",
              "      <td>Demián Bichir, Héctor Bonilla, Oscar Serrano, ...</td>\n",
              "      <td>Mexico</td>\n",
              "      <td>December 23, 2016</td>\n",
              "      <td>2016</td>\n",
              "      <td>TV-MA</td>\n",
              "      <td>93 min</td>\n",
              "      <td>Dramas, International Movies</td>\n",
              "      <td>After a devastating earthquake hits Mexico Cit...</td>\n",
              "    </tr>\n",
              "    <tr>\n",
              "      <th>2</th>\n",
              "      <td>s3</td>\n",
              "      <td>Movie</td>\n",
              "      <td>23:59</td>\n",
              "      <td>Gilbert Chan</td>\n",
              "      <td>Tedd Chan, Stella Chung, Henley Hii, Lawrence ...</td>\n",
              "      <td>Singapore</td>\n",
              "      <td>December 20, 2018</td>\n",
              "      <td>2011</td>\n",
              "      <td>R</td>\n",
              "      <td>78 min</td>\n",
              "      <td>Horror Movies, International Movies</td>\n",
              "      <td>When an army recruit is found dead, his fellow...</td>\n",
              "    </tr>\n",
              "    <tr>\n",
              "      <th>3</th>\n",
              "      <td>s4</td>\n",
              "      <td>Movie</td>\n",
              "      <td>9</td>\n",
              "      <td>Shane Acker</td>\n",
              "      <td>Elijah Wood, John C. Reilly, Jennifer Connelly...</td>\n",
              "      <td>United States</td>\n",
              "      <td>November 16, 2017</td>\n",
              "      <td>2009</td>\n",
              "      <td>PG-13</td>\n",
              "      <td>80 min</td>\n",
              "      <td>Action &amp; Adventure, Independent Movies, Sci-Fi...</td>\n",
              "      <td>In a postapocalyptic world, rag-doll robots hi...</td>\n",
              "    </tr>\n",
              "    <tr>\n",
              "      <th>4</th>\n",
              "      <td>s5</td>\n",
              "      <td>Movie</td>\n",
              "      <td>21</td>\n",
              "      <td>Robert Luketic</td>\n",
              "      <td>Jim Sturgess, Kevin Spacey, Kate Bosworth, Aar...</td>\n",
              "      <td>United States</td>\n",
              "      <td>January 1, 2020</td>\n",
              "      <td>2008</td>\n",
              "      <td>PG-13</td>\n",
              "      <td>123 min</td>\n",
              "      <td>Dramas</td>\n",
              "      <td>A brilliant group of students become card-coun...</td>\n",
              "    </tr>\n",
              "  </tbody>\n",
              "</table>\n",
              "</div>"
            ],
            "text/plain": [
              "  show_id  ...                                        description\n",
              "0      s1  ...  In a future where the elite inhabit an island ...\n",
              "1      s2  ...  After a devastating earthquake hits Mexico Cit...\n",
              "2      s3  ...  When an army recruit is found dead, his fellow...\n",
              "3      s4  ...  In a postapocalyptic world, rag-doll robots hi...\n",
              "4      s5  ...  A brilliant group of students become card-coun...\n",
              "\n",
              "[5 rows x 12 columns]"
            ]
          },
          "metadata": {},
          "execution_count": 6
        }
      ]
    },
    {
      "cell_type": "code",
      "metadata": {
        "colab": {
          "base_uri": "https://localhost:8080/"
        },
        "id": "11ooVZggnOY0",
        "outputId": "c23fb04c-f152-4283-bb34-e277b6ffe0db"
      },
      "source": [
        "dataset.info()"
      ],
      "execution_count": 7,
      "outputs": [
        {
          "output_type": "stream",
          "name": "stdout",
          "text": [
            "<class 'pandas.core.frame.DataFrame'>\n",
            "RangeIndex: 7787 entries, 0 to 7786\n",
            "Data columns (total 12 columns):\n",
            " #   Column        Non-Null Count  Dtype \n",
            "---  ------        --------------  ----- \n",
            " 0   show_id       7787 non-null   object\n",
            " 1   type          7787 non-null   object\n",
            " 2   title         7787 non-null   object\n",
            " 3   director      5398 non-null   object\n",
            " 4   cast          7069 non-null   object\n",
            " 5   country       7280 non-null   object\n",
            " 6   date_added    7777 non-null   object\n",
            " 7   release_year  7787 non-null   int64 \n",
            " 8   rating        7780 non-null   object\n",
            " 9   duration      7787 non-null   object\n",
            " 10  listed_in     7787 non-null   object\n",
            " 11  description   7787 non-null   object\n",
            "dtypes: int64(1), object(11)\n",
            "memory usage: 730.2+ KB\n"
          ]
        }
      ]
    },
    {
      "cell_type": "code",
      "metadata": {
        "colab": {
          "base_uri": "https://localhost:8080/",
          "height": 297
        },
        "id": "pMyc7SUlndAE",
        "outputId": "a4e91d1f-34d7-453c-a0a7-145b359e0f48"
      },
      "source": [
        "dataset.describe()"
      ],
      "execution_count": 8,
      "outputs": [
        {
          "output_type": "execute_result",
          "data": {
            "text/html": [
              "<div>\n",
              "<style scoped>\n",
              "    .dataframe tbody tr th:only-of-type {\n",
              "        vertical-align: middle;\n",
              "    }\n",
              "\n",
              "    .dataframe tbody tr th {\n",
              "        vertical-align: top;\n",
              "    }\n",
              "\n",
              "    .dataframe thead th {\n",
              "        text-align: right;\n",
              "    }\n",
              "</style>\n",
              "<table border=\"1\" class=\"dataframe\">\n",
              "  <thead>\n",
              "    <tr style=\"text-align: right;\">\n",
              "      <th></th>\n",
              "      <th>release_year</th>\n",
              "    </tr>\n",
              "  </thead>\n",
              "  <tbody>\n",
              "    <tr>\n",
              "      <th>count</th>\n",
              "      <td>7787.000000</td>\n",
              "    </tr>\n",
              "    <tr>\n",
              "      <th>mean</th>\n",
              "      <td>2013.932580</td>\n",
              "    </tr>\n",
              "    <tr>\n",
              "      <th>std</th>\n",
              "      <td>8.757395</td>\n",
              "    </tr>\n",
              "    <tr>\n",
              "      <th>min</th>\n",
              "      <td>1925.000000</td>\n",
              "    </tr>\n",
              "    <tr>\n",
              "      <th>25%</th>\n",
              "      <td>2013.000000</td>\n",
              "    </tr>\n",
              "    <tr>\n",
              "      <th>50%</th>\n",
              "      <td>2017.000000</td>\n",
              "    </tr>\n",
              "    <tr>\n",
              "      <th>75%</th>\n",
              "      <td>2018.000000</td>\n",
              "    </tr>\n",
              "    <tr>\n",
              "      <th>max</th>\n",
              "      <td>2021.000000</td>\n",
              "    </tr>\n",
              "  </tbody>\n",
              "</table>\n",
              "</div>"
            ],
            "text/plain": [
              "       release_year\n",
              "count   7787.000000\n",
              "mean    2013.932580\n",
              "std        8.757395\n",
              "min     1925.000000\n",
              "25%     2013.000000\n",
              "50%     2017.000000\n",
              "75%     2018.000000\n",
              "max     2021.000000"
            ]
          },
          "metadata": {},
          "execution_count": 8
        }
      ]
    },
    {
      "cell_type": "code",
      "metadata": {
        "colab": {
          "base_uri": "https://localhost:8080/"
        },
        "id": "-hgBm_5f6NVV",
        "outputId": "13600377-e29d-46c9-ab08-b403f6a2e9ce"
      },
      "source": [
        "dataset.shape"
      ],
      "execution_count": 9,
      "outputs": [
        {
          "output_type": "execute_result",
          "data": {
            "text/plain": [
              "(7787, 12)"
            ]
          },
          "metadata": {},
          "execution_count": 9
        }
      ]
    },
    {
      "cell_type": "markdown",
      "metadata": {
        "id": "hWICse5d4yqv"
      },
      "source": [
        "## Data Cleaning"
      ]
    },
    {
      "cell_type": "code",
      "metadata": {
        "colab": {
          "base_uri": "https://localhost:8080/"
        },
        "id": "SrJXVvMl5iSN",
        "outputId": "071ddf6a-4d39-445f-809d-2e83ecaba590"
      },
      "source": [
        "# Missing Value Count Function\n",
        "def show_missing():\n",
        "    missing = dataset.columns[dataset.isnull().any()].tolist()\n",
        "    return missing\n",
        "\n",
        "# Missing data counts and percentage\n",
        "print('Missing Data Count')\n",
        "print(dataset[show_missing()].isnull().sum().sort_values(ascending = False))\n",
        "print('--'*50)\n",
        "print('Missing Data Percentage')\n",
        "print(round(dataset[show_missing()].isnull().sum().sort_values(ascending = False)/len(dataset)*100,2))"
      ],
      "execution_count": 10,
      "outputs": [
        {
          "output_type": "stream",
          "name": "stdout",
          "text": [
            "Missing Data Count\n",
            "director      2389\n",
            "cast           718\n",
            "country        507\n",
            "date_added      10\n",
            "rating           7\n",
            "dtype: int64\n",
            "----------------------------------------------------------------------------------------------------\n",
            "Missing Data Percentage\n",
            "director      30.68\n",
            "cast           9.22\n",
            "country        6.51\n",
            "date_added     0.13\n",
            "rating         0.09\n",
            "dtype: float64\n"
          ]
        }
      ]
    },
    {
      "cell_type": "code",
      "metadata": {
        "colab": {
          "base_uri": "https://localhost:8080/"
        },
        "id": "YrngxgUu6lDV",
        "outputId": "60e0ad94-8263-466a-f460-32a3c246c00c"
      },
      "source": [
        "dataset['show_id'].unique()"
      ],
      "execution_count": 11,
      "outputs": [
        {
          "output_type": "execute_result",
          "data": {
            "text/plain": [
              "array(['s1', 's2', 's3', ..., 's7785', 's7786', 's7787'], dtype=object)"
            ]
          },
          "metadata": {},
          "execution_count": 11
        }
      ]
    },
    {
      "cell_type": "code",
      "metadata": {
        "colab": {
          "base_uri": "https://localhost:8080/"
        },
        "id": "kdjg8JFt6sip",
        "outputId": "c6a32d3f-4c29-4480-cc2a-941e6c08028c"
      },
      "source": [
        "dataset['title'].unique()"
      ],
      "execution_count": 12,
      "outputs": [
        {
          "output_type": "execute_result",
          "data": {
            "text/plain": [
              "array(['3%', '7:19', '23:59', ..., 'Zulu Man in Japan',\n",
              "       \"Zumbo's Just Desserts\", \"ZZ TOP: THAT LITTLE OL' BAND FROM TEXAS\"],\n",
              "      dtype=object)"
            ]
          },
          "metadata": {},
          "execution_count": 12
        }
      ]
    },
    {
      "cell_type": "code",
      "metadata": {
        "id": "brdgV26h2JiP"
      },
      "source": [
        "# Drop unnecessary features\n",
        "dataset.drop(['director','cast','show_id'], axis=1, inplace=True)\n",
        "\n",
        "# Drop rows with null value\n",
        "dataset.dropna(inplace=True)"
      ],
      "execution_count": 13,
      "outputs": []
    },
    {
      "cell_type": "code",
      "metadata": {
        "colab": {
          "base_uri": "https://localhost:8080/"
        },
        "id": "4_1Sdmve6Ug0",
        "outputId": "81d744ca-1a6d-4266-da12-9759990b2671"
      },
      "source": [
        "# After dropping some features and null values\n",
        "dataset.shape"
      ],
      "execution_count": 14,
      "outputs": [
        {
          "output_type": "execute_result",
          "data": {
            "text/plain": [
              "(7265, 9)"
            ]
          },
          "metadata": {},
          "execution_count": 14
        }
      ]
    },
    {
      "cell_type": "code",
      "metadata": {
        "colab": {
          "base_uri": "https://localhost:8080/"
        },
        "id": "8eydpjrj37i_",
        "outputId": "1c7ea3a9-709a-4987-e12e-eb11fe587681"
      },
      "source": [
        "dataset.info()"
      ],
      "execution_count": 15,
      "outputs": [
        {
          "output_type": "stream",
          "name": "stdout",
          "text": [
            "<class 'pandas.core.frame.DataFrame'>\n",
            "Int64Index: 7265 entries, 0 to 7786\n",
            "Data columns (total 9 columns):\n",
            " #   Column        Non-Null Count  Dtype \n",
            "---  ------        --------------  ----- \n",
            " 0   type          7265 non-null   object\n",
            " 1   title         7265 non-null   object\n",
            " 2   country       7265 non-null   object\n",
            " 3   date_added    7265 non-null   object\n",
            " 4   release_year  7265 non-null   int64 \n",
            " 5   rating        7265 non-null   object\n",
            " 6   duration      7265 non-null   object\n",
            " 7   listed_in     7265 non-null   object\n",
            " 8   description   7265 non-null   object\n",
            "dtypes: int64(1), object(8)\n",
            "memory usage: 567.6+ KB\n"
          ]
        }
      ]
    },
    {
      "cell_type": "code",
      "metadata": {
        "colab": {
          "base_uri": "https://localhost:8080/",
          "height": 289
        },
        "id": "ta-XIN8xHMw0",
        "outputId": "41d61139-87f0-42b4-ff8d-ee3ac76f683c"
      },
      "source": [
        "dataset.head()"
      ],
      "execution_count": 16,
      "outputs": [
        {
          "output_type": "execute_result",
          "data": {
            "text/html": [
              "<div>\n",
              "<style scoped>\n",
              "    .dataframe tbody tr th:only-of-type {\n",
              "        vertical-align: middle;\n",
              "    }\n",
              "\n",
              "    .dataframe tbody tr th {\n",
              "        vertical-align: top;\n",
              "    }\n",
              "\n",
              "    .dataframe thead th {\n",
              "        text-align: right;\n",
              "    }\n",
              "</style>\n",
              "<table border=\"1\" class=\"dataframe\">\n",
              "  <thead>\n",
              "    <tr style=\"text-align: right;\">\n",
              "      <th></th>\n",
              "      <th>type</th>\n",
              "      <th>title</th>\n",
              "      <th>country</th>\n",
              "      <th>date_added</th>\n",
              "      <th>release_year</th>\n",
              "      <th>rating</th>\n",
              "      <th>duration</th>\n",
              "      <th>listed_in</th>\n",
              "      <th>description</th>\n",
              "    </tr>\n",
              "  </thead>\n",
              "  <tbody>\n",
              "    <tr>\n",
              "      <th>0</th>\n",
              "      <td>TV Show</td>\n",
              "      <td>3%</td>\n",
              "      <td>Brazil</td>\n",
              "      <td>August 14, 2020</td>\n",
              "      <td>2020</td>\n",
              "      <td>TV-MA</td>\n",
              "      <td>4 Seasons</td>\n",
              "      <td>International TV Shows, TV Dramas, TV Sci-Fi &amp;...</td>\n",
              "      <td>In a future where the elite inhabit an island ...</td>\n",
              "    </tr>\n",
              "    <tr>\n",
              "      <th>1</th>\n",
              "      <td>Movie</td>\n",
              "      <td>7:19</td>\n",
              "      <td>Mexico</td>\n",
              "      <td>December 23, 2016</td>\n",
              "      <td>2016</td>\n",
              "      <td>TV-MA</td>\n",
              "      <td>93 min</td>\n",
              "      <td>Dramas, International Movies</td>\n",
              "      <td>After a devastating earthquake hits Mexico Cit...</td>\n",
              "    </tr>\n",
              "    <tr>\n",
              "      <th>2</th>\n",
              "      <td>Movie</td>\n",
              "      <td>23:59</td>\n",
              "      <td>Singapore</td>\n",
              "      <td>December 20, 2018</td>\n",
              "      <td>2011</td>\n",
              "      <td>R</td>\n",
              "      <td>78 min</td>\n",
              "      <td>Horror Movies, International Movies</td>\n",
              "      <td>When an army recruit is found dead, his fellow...</td>\n",
              "    </tr>\n",
              "    <tr>\n",
              "      <th>3</th>\n",
              "      <td>Movie</td>\n",
              "      <td>9</td>\n",
              "      <td>United States</td>\n",
              "      <td>November 16, 2017</td>\n",
              "      <td>2009</td>\n",
              "      <td>PG-13</td>\n",
              "      <td>80 min</td>\n",
              "      <td>Action &amp; Adventure, Independent Movies, Sci-Fi...</td>\n",
              "      <td>In a postapocalyptic world, rag-doll robots hi...</td>\n",
              "    </tr>\n",
              "    <tr>\n",
              "      <th>4</th>\n",
              "      <td>Movie</td>\n",
              "      <td>21</td>\n",
              "      <td>United States</td>\n",
              "      <td>January 1, 2020</td>\n",
              "      <td>2008</td>\n",
              "      <td>PG-13</td>\n",
              "      <td>123 min</td>\n",
              "      <td>Dramas</td>\n",
              "      <td>A brilliant group of students become card-coun...</td>\n",
              "    </tr>\n",
              "  </tbody>\n",
              "</table>\n",
              "</div>"
            ],
            "text/plain": [
              "      type  ...                                        description\n",
              "0  TV Show  ...  In a future where the elite inhabit an island ...\n",
              "1    Movie  ...  After a devastating earthquake hits Mexico Cit...\n",
              "2    Movie  ...  When an army recruit is found dead, his fellow...\n",
              "3    Movie  ...  In a postapocalyptic world, rag-doll robots hi...\n",
              "4    Movie  ...  A brilliant group of students become card-coun...\n",
              "\n",
              "[5 rows x 9 columns]"
            ]
          },
          "metadata": {},
          "execution_count": 16
        }
      ]
    },
    {
      "cell_type": "markdown",
      "metadata": {
        "id": "k_-zeaT3DG-R"
      },
      "source": [
        "## Top 10 countries producing contents on Netflix"
      ]
    },
    {
      "cell_type": "code",
      "metadata": {
        "colab": {
          "base_uri": "https://localhost:8080/",
          "height": 359
        },
        "id": "iHqceyoG7Oci",
        "outputId": "db878f0f-5073-4e3c-f6e7-2ed2d95221f1"
      },
      "source": [
        "# Top 10 countries producing contents in netflix\n",
        "top_10_country = dataset['country'].value_counts()[:10].reset_index().rename(columns={'index':'country', 'country': 'count'})\n",
        "top_10_country"
      ],
      "execution_count": 17,
      "outputs": [
        {
          "output_type": "execute_result",
          "data": {
            "text/html": [
              "<div>\n",
              "<style scoped>\n",
              "    .dataframe tbody tr th:only-of-type {\n",
              "        vertical-align: middle;\n",
              "    }\n",
              "\n",
              "    .dataframe tbody tr th {\n",
              "        vertical-align: top;\n",
              "    }\n",
              "\n",
              "    .dataframe thead th {\n",
              "        text-align: right;\n",
              "    }\n",
              "</style>\n",
              "<table border=\"1\" class=\"dataframe\">\n",
              "  <thead>\n",
              "    <tr style=\"text-align: right;\">\n",
              "      <th></th>\n",
              "      <th>country</th>\n",
              "      <th>count</th>\n",
              "    </tr>\n",
              "  </thead>\n",
              "  <tbody>\n",
              "    <tr>\n",
              "      <th>0</th>\n",
              "      <td>United States</td>\n",
              "      <td>2546</td>\n",
              "    </tr>\n",
              "    <tr>\n",
              "      <th>1</th>\n",
              "      <td>India</td>\n",
              "      <td>923</td>\n",
              "    </tr>\n",
              "    <tr>\n",
              "      <th>2</th>\n",
              "      <td>United Kingdom</td>\n",
              "      <td>396</td>\n",
              "    </tr>\n",
              "    <tr>\n",
              "      <th>3</th>\n",
              "      <td>Japan</td>\n",
              "      <td>224</td>\n",
              "    </tr>\n",
              "    <tr>\n",
              "      <th>4</th>\n",
              "      <td>South Korea</td>\n",
              "      <td>183</td>\n",
              "    </tr>\n",
              "    <tr>\n",
              "      <th>5</th>\n",
              "      <td>Canada</td>\n",
              "      <td>177</td>\n",
              "    </tr>\n",
              "    <tr>\n",
              "      <th>6</th>\n",
              "      <td>Spain</td>\n",
              "      <td>134</td>\n",
              "    </tr>\n",
              "    <tr>\n",
              "      <th>7</th>\n",
              "      <td>France</td>\n",
              "      <td>115</td>\n",
              "    </tr>\n",
              "    <tr>\n",
              "      <th>8</th>\n",
              "      <td>Egypt</td>\n",
              "      <td>101</td>\n",
              "    </tr>\n",
              "    <tr>\n",
              "      <th>9</th>\n",
              "      <td>Turkey</td>\n",
              "      <td>100</td>\n",
              "    </tr>\n",
              "  </tbody>\n",
              "</table>\n",
              "</div>"
            ],
            "text/plain": [
              "          country  count\n",
              "0   United States   2546\n",
              "1           India    923\n",
              "2  United Kingdom    396\n",
              "3           Japan    224\n",
              "4     South Korea    183\n",
              "5          Canada    177\n",
              "6           Spain    134\n",
              "7          France    115\n",
              "8           Egypt    101\n",
              "9          Turkey    100"
            ]
          },
          "metadata": {},
          "execution_count": 17
        }
      ]
    },
    {
      "cell_type": "code",
      "metadata": {
        "colab": {
          "base_uri": "https://localhost:8080/",
          "height": 310
        },
        "id": "BXO0AXSV6L0J",
        "outputId": "31d70338-30a7-4a31-d6b7-d6aeb4012af9"
      },
      "source": [
        "plt.pie(top_10_country['count'].values, labels=top_10_country['country'], radius=1.5, startangle=45)\n",
        "plt.show()"
      ],
      "execution_count": 18,
      "outputs": [
        {
          "output_type": "display_data",
          "data": {
            "image/png": "[encoded data removed]",
            "text/plain": [
              "<Figure size 432x288 with 1 Axes>"
            ]
          },
          "metadata": {}
        }
      ]
    },
    {
      "cell_type": "code",
      "metadata": {
        "id": "w2DuuURvKN1t",
        "colab": {
          "base_uri": "https://localhost:8080/",
          "height": 762
        },
        "outputId": "25d46810-33f8-4d97-bf61-b7929a887880"
      },
      "source": [
        "ratings_count = dataset[['rating','type']].value_counts().reset_index().rename(columns={0: 'count'})\n",
        "ratings_count"
      ],
      "execution_count": 19,
      "outputs": [
        {
          "output_type": "execute_result",
          "data": {
            "text/html": [
              "<div>\n",
              "<style scoped>\n",
              "    .dataframe tbody tr th:only-of-type {\n",
              "        vertical-align: middle;\n",
              "    }\n",
              "\n",
              "    .dataframe tbody tr th {\n",
              "        vertical-align: top;\n",
              "    }\n",
              "\n",
              "    .dataframe thead th {\n",
              "        text-align: right;\n",
              "    }\n",
              "</style>\n",
              "<table border=\"1\" class=\"dataframe\">\n",
              "  <thead>\n",
              "    <tr style=\"text-align: right;\">\n",
              "      <th></th>\n",
              "      <th>rating</th>\n",
              "      <th>type</th>\n",
              "      <th>count</th>\n",
              "    </tr>\n",
              "  </thead>\n",
              "  <tbody>\n",
              "    <tr>\n",
              "      <th>0</th>\n",
              "      <td>TV-MA</td>\n",
              "      <td>Movie</td>\n",
              "      <td>1767</td>\n",
              "    </tr>\n",
              "    <tr>\n",
              "      <th>1</th>\n",
              "      <td>TV-14</td>\n",
              "      <td>Movie</td>\n",
              "      <td>1216</td>\n",
              "    </tr>\n",
              "    <tr>\n",
              "      <th>2</th>\n",
              "      <td>TV-MA</td>\n",
              "      <td>TV Show</td>\n",
              "      <td>935</td>\n",
              "    </tr>\n",
              "    <tr>\n",
              "      <th>3</th>\n",
              "      <td>R</td>\n",
              "      <td>Movie</td>\n",
              "      <td>662</td>\n",
              "    </tr>\n",
              "    <tr>\n",
              "      <th>4</th>\n",
              "      <td>TV-14</td>\n",
              "      <td>TV Show</td>\n",
              "      <td>576</td>\n",
              "    </tr>\n",
              "    <tr>\n",
              "      <th>5</th>\n",
              "      <td>TV-PG</td>\n",
              "      <td>Movie</td>\n",
              "      <td>483</td>\n",
              "    </tr>\n",
              "    <tr>\n",
              "      <th>6</th>\n",
              "      <td>PG-13</td>\n",
              "      <td>Movie</td>\n",
              "      <td>383</td>\n",
              "    </tr>\n",
              "    <tr>\n",
              "      <th>7</th>\n",
              "      <td>TV-PG</td>\n",
              "      <td>TV Show</td>\n",
              "      <td>256</td>\n",
              "    </tr>\n",
              "    <tr>\n",
              "      <th>8</th>\n",
              "      <td>PG</td>\n",
              "      <td>Movie</td>\n",
              "      <td>244</td>\n",
              "    </tr>\n",
              "    <tr>\n",
              "      <th>9</th>\n",
              "      <td>TV-Y7</td>\n",
              "      <td>TV Show</td>\n",
              "      <td>144</td>\n",
              "    </tr>\n",
              "    <tr>\n",
              "      <th>10</th>\n",
              "      <td>TV-Y</td>\n",
              "      <td>TV Show</td>\n",
              "      <td>131</td>\n",
              "    </tr>\n",
              "    <tr>\n",
              "      <th>11</th>\n",
              "      <td>TV-G</td>\n",
              "      <td>Movie</td>\n",
              "      <td>103</td>\n",
              "    </tr>\n",
              "    <tr>\n",
              "      <th>12</th>\n",
              "      <td>TV-Y</td>\n",
              "      <td>Movie</td>\n",
              "      <td>79</td>\n",
              "    </tr>\n",
              "    <tr>\n",
              "      <th>13</th>\n",
              "      <td>NR</td>\n",
              "      <td>Movie</td>\n",
              "      <td>79</td>\n",
              "    </tr>\n",
              "    <tr>\n",
              "      <th>14</th>\n",
              "      <td>TV-Y7</td>\n",
              "      <td>Movie</td>\n",
              "      <td>76</td>\n",
              "    </tr>\n",
              "    <tr>\n",
              "      <th>15</th>\n",
              "      <td>TV-G</td>\n",
              "      <td>TV Show</td>\n",
              "      <td>74</td>\n",
              "    </tr>\n",
              "    <tr>\n",
              "      <th>16</th>\n",
              "      <td>G</td>\n",
              "      <td>Movie</td>\n",
              "      <td>39</td>\n",
              "    </tr>\n",
              "    <tr>\n",
              "      <th>17</th>\n",
              "      <td>UR</td>\n",
              "      <td>Movie</td>\n",
              "      <td>5</td>\n",
              "    </tr>\n",
              "    <tr>\n",
              "      <th>18</th>\n",
              "      <td>NR</td>\n",
              "      <td>TV Show</td>\n",
              "      <td>4</td>\n",
              "    </tr>\n",
              "    <tr>\n",
              "      <th>19</th>\n",
              "      <td>TV-Y7-FV</td>\n",
              "      <td>Movie</td>\n",
              "      <td>4</td>\n",
              "    </tr>\n",
              "    <tr>\n",
              "      <th>20</th>\n",
              "      <td>NC-17</td>\n",
              "      <td>Movie</td>\n",
              "      <td>3</td>\n",
              "    </tr>\n",
              "    <tr>\n",
              "      <th>21</th>\n",
              "      <td>R</td>\n",
              "      <td>TV Show</td>\n",
              "      <td>1</td>\n",
              "    </tr>\n",
              "    <tr>\n",
              "      <th>22</th>\n",
              "      <td>TV-Y7-FV</td>\n",
              "      <td>TV Show</td>\n",
              "      <td>1</td>\n",
              "    </tr>\n",
              "  </tbody>\n",
              "</table>\n",
              "</div>"
            ],
            "text/plain": [
              "      rating     type  count\n",
              "0      TV-MA    Movie   1767\n",
              "1      TV-14    Movie   1216\n",
              "2      TV-MA  TV Show    935\n",
              "3          R    Movie    662\n",
              "4      TV-14  TV Show    576\n",
              "5      TV-PG    Movie    483\n",
              "6      PG-13    Movie    383\n",
              "7      TV-PG  TV Show    256\n",
              "8         PG    Movie    244\n",
              "9      TV-Y7  TV Show    144\n",
              "10      TV-Y  TV Show    131\n",
              "11      TV-G    Movie    103\n",
              "12      TV-Y    Movie     79\n",
              "13        NR    Movie     79\n",
              "14     TV-Y7    Movie     76\n",
              "15      TV-G  TV Show     74\n",
              "16         G    Movie     39\n",
              "17        UR    Movie      5\n",
              "18        NR  TV Show      4\n",
              "19  TV-Y7-FV    Movie      4\n",
              "20     NC-17    Movie      3\n",
              "21         R  TV Show      1\n",
              "22  TV-Y7-FV  TV Show      1"
            ]
          },
          "metadata": {},
          "execution_count": 19
        }
      ]
    },
    {
      "cell_type": "code",
      "metadata": {
        "id": "phxXsxpuMgXO",
        "colab": {
          "base_uri": "https://localhost:8080/",
          "height": 333
        },
        "outputId": "ae4b87e9-6248-4928-f10b-5db85a07342b"
      },
      "source": [
        "# Visualize contents based on ratings\n",
        "sns.barplot('rating', 'count',hue='type',data=ratings_count)\n",
        "rcParams['figure.figsize'] = 14,7"
      ],
      "execution_count": 20,
      "outputs": [
        {
          "output_type": "stream",
          "name": "stderr",
          "text": [
            "/usr/local/lib/python3.7/dist-packages/seaborn/_decorators.py:43: FutureWarning: Pass the following variables as keyword args: x, y. From version 0.12, the only valid positional argument will be `data`, and passing other arguments without an explicit keyword will result in an error or misinterpretation.\n",
            "  FutureWarning\n"
          ]
        },
        {
          "output_type": "display_data",
          "data": {
            "image/png": "[encoded data removed]",
            "text/plain": [
              "<Figure size 432x288 with 1 Axes>"
            ]
          },
          "metadata": {
            "needs_background": "light"
          }
        }
      ]
    },
    {
      "cell_type": "markdown",
      "metadata": {
        "id": "Sk4SeHryL-qi"
      },
      "source": [
        "<b><u>Detail about Ratings:</u></b>\n",
        "\n",
        "**TV-Y:** All Children\n",
        "Intended for children ages 2 to 6 and is not designed or expected to frighten.\n",
        "\n",
        "**TV-Y7:** Directed to Older Children\n",
        "Intended for children ages 7 and older. Best suited for children who know the difference between real life and make-believe. Contains mild fantasy or comedic violence. Some content could frighten younger children (under age 7).\n",
        "\n",
        "**TV-Y7 FV:** Directed to Older Children - Fantasy Violence\n",
        "Intended for older children. Contains fantasy violence more combative than TVY7 programs.\n",
        "\n",
        "**TV-G:** General Audience\n",
        "Intended for all ages. Contains little or no violence, no strong language and little or no sexual dialogue or situations.\n",
        "\n",
        "**TV-PG:** Parental Guidance Suggested\n",
        "Intended for younger children in the company of an adult. Possibly contains some suggestive dialogue, infrequent coarse language, some sexual situations or some moderate violence.\n",
        "\n",
        "**TV-14:** Parents Strongly Cautioned\n",
        "Intended for children ages 14 and older in the company of an adult. Possibly contains intensely suggestive dialogue, strong coarse language, intense sexual situations or intense violence.\n",
        "\n",
        "**TV-MA:** Mature Audience Only\n",
        "Intended for adults and may be unsuitable for children under 17. Possibly contains crude indecent language, explicit sexual activity or graphic violence.\n",
        "\n",
        "**G:** General Audiences\n",
        "This program is designed to be appropriate for all ages. This rating indicates a film contains nothing that would offend parents for viewing by children.\n",
        "\n",
        "**PG:** Parental Guidance Suggested\n",
        "Parents are urged to give parental guidance. This film may contain some material parents might not like for their young children.\n",
        "\n",
        "**PG-13:** Parents Strongly Cautioned\n",
        "Some material may not be suited for children under age 13. May contain violence, nudity, sensuality, language, adult activities or other elements beyond a PG rating, but doesn’t reach the restricted R category.\n",
        "\n",
        "**R:** Restricted\n",
        "This rating is for films specifically designed to be viewed by adults and therefore may be unsuitable for children under 17.\n",
        "\n",
        "**NC-17:** Clearly Adult\n",
        "This rating is applied to films the MPAA believes most parents will consider inappropriate for children 17 and under. It indicates only that adult content is more intense than in an R rated movie."
      ]
    },
    {
      "cell_type": "code",
      "metadata": {
        "id": "F1Crh38t_ckc",
        "colab": {
          "base_uri": "https://localhost:8080/",
          "height": 493
        },
        "outputId": "b01d0288-645a-4a0f-af71-fced3e61bdf5"
      },
      "source": [
        "plt.pie(dataset['type'].value_counts(), labels=['Movies', 'TV Show'], radius=1.5)\n",
        "plt.show()"
      ],
      "execution_count": 21,
      "outputs": [
        {
          "output_type": "display_data",
          "data": {
            "image/png": "[encoded data removed]",
            "text/plain": [
              "<Figure size 1008x504 with 1 Axes>"
            ]
          },
          "metadata": {}
        }
      ]
    },
    {
      "cell_type": "code",
      "metadata": {
        "id": "7Oe1NcKegS0Y"
      },
      "source": [
        "def get_unique_list(col_name, dataset_name):\n",
        "\n",
        "  # Extract unique names\n",
        "  list_ = []\n",
        "\n",
        "  for list_of_name in  dataset_name[col_name].unique():\n",
        "    split_list_of_name = list_of_name.split(sep=', ')\n",
        "    for name in split_list_of_name:\n",
        "      list_.append(name)\n",
        "\n",
        "  # Eliminate repeated names\n",
        "  list_ = list(set(list_)) \n",
        "  return list_"
      ],
      "execution_count": 22,
      "outputs": []
    },
    {
      "cell_type": "code",
      "metadata": {
        "colab": {
          "base_uri": "https://localhost:8080/"
        },
        "id": "xMuHSPYZgsyu",
        "outputId": "1c2347a0-8285-4233-a2fe-872ed84dfd33"
      },
      "source": [
        "list_of_genres = get_unique_list('listed_in', dataset)\n",
        "list_of_genres"
      ],
      "execution_count": 23,
      "outputs": [
        {
          "output_type": "execute_result",
          "data": {
            "text/plain": [
              "['Children & Family Movies',\n",
              " 'TV Comedies',\n",
              " 'Cult Movies',\n",
              " 'Documentaries',\n",
              " 'Reality TV',\n",
              " 'Anime Features',\n",
              " 'Teen TV Shows',\n",
              " 'Horror Movies',\n",
              " 'Movies',\n",
              " 'Classic Movies',\n",
              " 'Stand-Up Comedy',\n",
              " 'Sports Movies',\n",
              " 'TV Thrillers',\n",
              " 'TV Shows',\n",
              " 'Docuseries',\n",
              " 'International TV Shows',\n",
              " 'Science & Nature TV',\n",
              " 'Sci-Fi & Fantasy',\n",
              " 'TV Mysteries',\n",
              " 'LGBTQ Movies',\n",
              " 'Korean TV Shows',\n",
              " 'Romantic TV Shows',\n",
              " 'Anime Series',\n",
              " 'Dramas',\n",
              " 'Stand-Up Comedy & Talk Shows',\n",
              " 'Music & Musicals',\n",
              " 'TV Action & Adventure',\n",
              " 'TV Dramas',\n",
              " 'Spanish-Language TV Shows',\n",
              " 'TV Sci-Fi & Fantasy',\n",
              " 'Independent Movies',\n",
              " 'Romantic Movies',\n",
              " 'Faith & Spirituality',\n",
              " 'Crime TV Shows',\n",
              " 'Comedies',\n",
              " 'International Movies',\n",
              " \"Kids' TV\",\n",
              " 'British TV Shows',\n",
              " 'TV Horror',\n",
              " 'Action & Adventure',\n",
              " 'Thrillers',\n",
              " 'Classic & Cult TV']"
            ]
          },
          "metadata": {},
          "execution_count": 23
        }
      ]
    },
    {
      "cell_type": "code",
      "metadata": {
        "colab": {
          "base_uri": "https://localhost:8080/"
        },
        "id": "8fhhAslXiR66",
        "outputId": "20c71180-dc16-4618-d7b0-fd3a8440b5ff"
      },
      "source": [
        "len(list_of_genres)"
      ],
      "execution_count": 24,
      "outputs": [
        {
          "output_type": "execute_result",
          "data": {
            "text/plain": [
              "42"
            ]
          },
          "metadata": {},
          "execution_count": 24
        }
      ]
    },
    {
      "cell_type": "code",
      "metadata": {
        "id": "sXF9sG0vjHYU"
      },
      "source": [
        "def get_genres_count(country):\n",
        "  genres_count = dataset[dataset['country'] == country]['listed_in'].value_counts().reset_index().rename(columns={'index': 'listed_in', 'listed_in': 'count'})\n",
        "  return genres_count"
      ],
      "execution_count": 25,
      "outputs": []
    },
    {
      "cell_type": "code",
      "metadata": {
        "colab": {
          "base_uri": "https://localhost:8080/",
          "height": 1000
        },
        "id": "lbUA9JkSlxkJ",
        "outputId": "70623974-3d7e-47b7-92f7-cb53eeabc962"
      },
      "source": [
        "for country in top_10_country['country'][:5].values:\n",
        "  genres_count = pd.DataFrame(get_genres_count(country))\n",
        "  plt.figure()\n",
        "  sns.barplot('listed_in', 'count' ,data= genres_count[:20])\n",
        "  plt.title(country)\n",
        "  plt.xlabel('Genre')\n",
        "  plt.xticks(rotation = 90)\n",
        "  plt.show"
      ],
      "execution_count": 26,
      "outputs": [
        {
          "output_type": "stream",
          "name": "stderr",
          "text": [
            "/usr/local/lib/python3.7/dist-packages/seaborn/_decorators.py:43: FutureWarning: Pass the following variables as keyword args: x, y. From version 0.12, the only valid positional argument will be `data`, and passing other arguments without an explicit keyword will result in an error or misinterpretation.\n",
            "  FutureWarning\n",
            "/usr/local/lib/python3.7/dist-packages/seaborn/_decorators.py:43: FutureWarning: Pass the following variables as keyword args: x, y. From version 0.12, the only valid positional argument will be `data`, and passing other arguments without an explicit keyword will result in an error or misinterpretation.\n",
            "  FutureWarning\n",
            "/usr/local/lib/python3.7/dist-packages/seaborn/_decorators.py:43: FutureWarning: Pass the following variables as keyword args: x, y. From version 0.12, the only valid positional argument will be `data`, and passing other arguments without an explicit keyword will result in an error or misinterpretation.\n",
            "  FutureWarning\n",
            "/usr/local/lib/python3.7/dist-packages/seaborn/_decorators.py:43: FutureWarning: Pass the following variables as keyword args: x, y. From version 0.12, the only valid positional argument will be `data`, and passing other arguments without an explicit keyword will result in an error or misinterpretation.\n",
            "  FutureWarning\n",
            "/usr/local/lib/python3.7/dist-packages/seaborn/_decorators.py:43: FutureWarning: Pass the following variables as keyword args: x, y. From version 0.12, the only valid positional argument will be `data`, and passing other arguments without an explicit keyword will result in an error or misinterpretation.\n",
            "  FutureWarning\n"
          ]
        },
        {
          "output_type": "display_data",
          "data": {
            "image/png": "[encoded data removed]",
            "text/plain": [
              "<Figure size 1008x504 with 1 Axes>"
            ]
          },
          "metadata": {
            "needs_background": "light"
          }
        },
        {
          "output_type": "display_data",
          "data": {
            "image/png": "[encoded data removed]",
            "text/plain": [
              "<Figure size 1008x504 with 1 Axes>"
            ]
          },
          "metadata": {
            "needs_background": "light"
          }
        },
        {
          "output_type": "display_data",
          "data": {
            "image/png": "[encoded data removed]",
            "text/plain": [
              "<Figure size 1008x504 with 1 Axes>"
            ]
          },
          "metadata": {
            "needs_background": "light"
          }
        },
        {
          "output_type": "display_data",
          "data": {
            "image/png": "[encoded data removed]",
            "text/plain": [
              "<Figure size 1008x504 with 1 Axes>"
            ]
          },
          "metadata": {
            "needs_background": "light"
          }
        },
        {
          "output_type": "display_data",
          "data": {
            "image/png": "[encoded data removed]",
            "text/plain": [
              "<Figure size 1008x504 with 1 Axes>"
            ]
          },
          "metadata": {
            "needs_background": "light"
          }
        }
      ]
    },
    {
      "cell_type": "markdown",
      "metadata": {
        "id": "2-NGMxhtTNm7"
      },
      "source": [
        "## <b>Understanding what type content is available in different countries"
      ]
    },
    {
      "cell_type": "code",
      "metadata": {
        "id": "kgPJ5kManrG9",
        "colab": {
          "base_uri": "https://localhost:8080/",
          "height": 669
        },
        "outputId": "39b93df4-8720-4dc1-f2fb-e82731a29d00"
      },
      "source": [
        "type_of_content =  dataset[['country','type']].value_counts().reset_index().rename(columns={0: 'count'})\n",
        "type_of_content.head(20)"
      ],
      "execution_count": 27,
      "outputs": [
        {
          "output_type": "execute_result",
          "data": {
            "text/html": [
              "<div>\n",
              "<style scoped>\n",
              "    .dataframe tbody tr th:only-of-type {\n",
              "        vertical-align: middle;\n",
              "    }\n",
              "\n",
              "    .dataframe tbody tr th {\n",
              "        vertical-align: top;\n",
              "    }\n",
              "\n",
              "    .dataframe thead th {\n",
              "        text-align: right;\n",
              "    }\n",
              "</style>\n",
              "<table border=\"1\" class=\"dataframe\">\n",
              "  <thead>\n",
              "    <tr style=\"text-align: right;\">\n",
              "      <th></th>\n",
              "      <th>country</th>\n",
              "      <th>type</th>\n",
              "      <th>count</th>\n",
              "    </tr>\n",
              "  </thead>\n",
              "  <tbody>\n",
              "    <tr>\n",
              "      <th>0</th>\n",
              "      <td>United States</td>\n",
              "      <td>Movie</td>\n",
              "      <td>1847</td>\n",
              "    </tr>\n",
              "    <tr>\n",
              "      <th>1</th>\n",
              "      <td>India</td>\n",
              "      <td>Movie</td>\n",
              "      <td>852</td>\n",
              "    </tr>\n",
              "    <tr>\n",
              "      <th>2</th>\n",
              "      <td>United States</td>\n",
              "      <td>TV Show</td>\n",
              "      <td>699</td>\n",
              "    </tr>\n",
              "    <tr>\n",
              "      <th>3</th>\n",
              "      <td>United Kingdom</td>\n",
              "      <td>TV Show</td>\n",
              "      <td>203</td>\n",
              "    </tr>\n",
              "    <tr>\n",
              "      <th>4</th>\n",
              "      <td>United Kingdom</td>\n",
              "      <td>Movie</td>\n",
              "      <td>193</td>\n",
              "    </tr>\n",
              "    <tr>\n",
              "      <th>5</th>\n",
              "      <td>Japan</td>\n",
              "      <td>TV Show</td>\n",
              "      <td>155</td>\n",
              "    </tr>\n",
              "    <tr>\n",
              "      <th>6</th>\n",
              "      <td>South Korea</td>\n",
              "      <td>TV Show</td>\n",
              "      <td>147</td>\n",
              "    </tr>\n",
              "    <tr>\n",
              "      <th>7</th>\n",
              "      <td>Canada</td>\n",
              "      <td>Movie</td>\n",
              "      <td>118</td>\n",
              "    </tr>\n",
              "    <tr>\n",
              "      <th>8</th>\n",
              "      <td>Egypt</td>\n",
              "      <td>Movie</td>\n",
              "      <td>89</td>\n",
              "    </tr>\n",
              "    <tr>\n",
              "      <th>9</th>\n",
              "      <td>Spain</td>\n",
              "      <td>Movie</td>\n",
              "      <td>89</td>\n",
              "    </tr>\n",
              "    <tr>\n",
              "      <th>10</th>\n",
              "      <td>Turkey</td>\n",
              "      <td>Movie</td>\n",
              "      <td>73</td>\n",
              "    </tr>\n",
              "    <tr>\n",
              "      <th>11</th>\n",
              "      <td>India</td>\n",
              "      <td>TV Show</td>\n",
              "      <td>71</td>\n",
              "    </tr>\n",
              "    <tr>\n",
              "      <th>12</th>\n",
              "      <td>Philippines</td>\n",
              "      <td>Movie</td>\n",
              "      <td>70</td>\n",
              "    </tr>\n",
              "    <tr>\n",
              "      <th>13</th>\n",
              "      <td>Japan</td>\n",
              "      <td>Movie</td>\n",
              "      <td>69</td>\n",
              "    </tr>\n",
              "    <tr>\n",
              "      <th>14</th>\n",
              "      <td>France</td>\n",
              "      <td>Movie</td>\n",
              "      <td>69</td>\n",
              "    </tr>\n",
              "    <tr>\n",
              "      <th>15</th>\n",
              "      <td>Indonesia</td>\n",
              "      <td>Movie</td>\n",
              "      <td>68</td>\n",
              "    </tr>\n",
              "    <tr>\n",
              "      <th>16</th>\n",
              "      <td>Taiwan</td>\n",
              "      <td>TV Show</td>\n",
              "      <td>68</td>\n",
              "    </tr>\n",
              "    <tr>\n",
              "      <th>17</th>\n",
              "      <td>Mexico</td>\n",
              "      <td>Movie</td>\n",
              "      <td>65</td>\n",
              "    </tr>\n",
              "    <tr>\n",
              "      <th>18</th>\n",
              "      <td>Nigeria</td>\n",
              "      <td>Movie</td>\n",
              "      <td>62</td>\n",
              "    </tr>\n",
              "    <tr>\n",
              "      <th>19</th>\n",
              "      <td>Canada</td>\n",
              "      <td>TV Show</td>\n",
              "      <td>59</td>\n",
              "    </tr>\n",
              "  </tbody>\n",
              "</table>\n",
              "</div>"
            ],
            "text/plain": [
              "           country     type  count\n",
              "0    United States    Movie   1847\n",
              "1            India    Movie    852\n",
              "2    United States  TV Show    699\n",
              "3   United Kingdom  TV Show    203\n",
              "4   United Kingdom    Movie    193\n",
              "5            Japan  TV Show    155\n",
              "6      South Korea  TV Show    147\n",
              "7           Canada    Movie    118\n",
              "8            Egypt    Movie     89\n",
              "9            Spain    Movie     89\n",
              "10          Turkey    Movie     73\n",
              "11           India  TV Show     71\n",
              "12     Philippines    Movie     70\n",
              "13           Japan    Movie     69\n",
              "14          France    Movie     69\n",
              "15       Indonesia    Movie     68\n",
              "16          Taiwan  TV Show     68\n",
              "17          Mexico    Movie     65\n",
              "18         Nigeria    Movie     62\n",
              "19          Canada  TV Show     59"
            ]
          },
          "metadata": {},
          "execution_count": 27
        }
      ]
    },
    {
      "cell_type": "code",
      "metadata": {
        "id": "ObQWVp-bC5wA",
        "colab": {
          "base_uri": "https://localhost:8080/",
          "height": 496
        },
        "outputId": "eee7fd1e-0a1a-41ab-d5e4-ef9e69028263"
      },
      "source": [
        "# Visualize top 10 countries producing contents in netflix\n",
        "sns.barplot('country', 'count',hue='type',data=type_of_content[:20])\n",
        "rcParams['figure.figsize'] = 10, 5"
      ],
      "execution_count": 28,
      "outputs": [
        {
          "output_type": "stream",
          "name": "stderr",
          "text": [
            "/usr/local/lib/python3.7/dist-packages/seaborn/_decorators.py:43: FutureWarning: Pass the following variables as keyword args: x, y. From version 0.12, the only valid positional argument will be `data`, and passing other arguments without an explicit keyword will result in an error or misinterpretation.\n",
            "  FutureWarning\n"
          ]
        },
        {
          "output_type": "display_data",
          "data": {
            "image/png": "[encoded data removed]",
            "text/plain": [
              "<Figure size 1008x504 with 1 Axes>"
            ]
          },
          "metadata": {
            "needs_background": "light"
          }
        }
      ]
    },
    {
      "cell_type": "code",
      "metadata": {
        "id": "dePeMXmjAj9k",
        "colab": {
          "base_uri": "https://localhost:8080/",
          "height": 359
        },
        "outputId": "d54c17e6-cc55-4e12-ffa4-abf0dc62093f"
      },
      "source": [
        "type_of_content.tail(10)"
      ],
      "execution_count": 29,
      "outputs": [
        {
          "output_type": "execute_result",
          "data": {
            "text/html": [
              "<div>\n",
              "<style scoped>\n",
              "    .dataframe tbody tr th:only-of-type {\n",
              "        vertical-align: middle;\n",
              "    }\n",
              "\n",
              "    .dataframe tbody tr th {\n",
              "        vertical-align: top;\n",
              "    }\n",
              "\n",
              "    .dataframe thead th {\n",
              "        text-align: right;\n",
              "    }\n",
              "</style>\n",
              "<table border=\"1\" class=\"dataframe\">\n",
              "  <thead>\n",
              "    <tr style=\"text-align: right;\">\n",
              "      <th></th>\n",
              "      <th>country</th>\n",
              "      <th>type</th>\n",
              "      <th>count</th>\n",
              "    </tr>\n",
              "  </thead>\n",
              "  <tbody>\n",
              "    <tr>\n",
              "      <th>763</th>\n",
              "      <td>India, United States</td>\n",
              "      <td>TV Show</td>\n",
              "      <td>1</td>\n",
              "    </tr>\n",
              "    <tr>\n",
              "      <th>764</th>\n",
              "      <td>Ireland, Canada, United Kingdom, United States</td>\n",
              "      <td>Movie</td>\n",
              "      <td>1</td>\n",
              "    </tr>\n",
              "    <tr>\n",
              "      <th>765</th>\n",
              "      <td>Indonesia, Netherlands</td>\n",
              "      <td>Movie</td>\n",
              "      <td>1</td>\n",
              "    </tr>\n",
              "    <tr>\n",
              "      <th>766</th>\n",
              "      <td>Indonesia, South Korea, Singapore</td>\n",
              "      <td>Movie</td>\n",
              "      <td>1</td>\n",
              "    </tr>\n",
              "    <tr>\n",
              "      <th>767</th>\n",
              "      <td>Indonesia, United Kingdom</td>\n",
              "      <td>Movie</td>\n",
              "      <td>1</td>\n",
              "    </tr>\n",
              "    <tr>\n",
              "      <th>768</th>\n",
              "      <td>Indonesia, United States</td>\n",
              "      <td>Movie</td>\n",
              "      <td>1</td>\n",
              "    </tr>\n",
              "    <tr>\n",
              "      <th>769</th>\n",
              "      <td>Iran, France</td>\n",
              "      <td>Movie</td>\n",
              "      <td>1</td>\n",
              "    </tr>\n",
              "    <tr>\n",
              "      <th>770</th>\n",
              "      <td>Ireland, Canada</td>\n",
              "      <td>Movie</td>\n",
              "      <td>1</td>\n",
              "    </tr>\n",
              "    <tr>\n",
              "      <th>771</th>\n",
              "      <td>Ireland, Canada, Luxembourg, United States, Un...</td>\n",
              "      <td>Movie</td>\n",
              "      <td>1</td>\n",
              "    </tr>\n",
              "    <tr>\n",
              "      <th>772</th>\n",
              "      <td>Zimbabwe</td>\n",
              "      <td>Movie</td>\n",
              "      <td>1</td>\n",
              "    </tr>\n",
              "  </tbody>\n",
              "</table>\n",
              "</div>"
            ],
            "text/plain": [
              "                                               country     type  count\n",
              "763                               India, United States  TV Show      1\n",
              "764     Ireland, Canada, United Kingdom, United States    Movie      1\n",
              "765                             Indonesia, Netherlands    Movie      1\n",
              "766                  Indonesia, South Korea, Singapore    Movie      1\n",
              "767                          Indonesia, United Kingdom    Movie      1\n",
              "768                           Indonesia, United States    Movie      1\n",
              "769                                       Iran, France    Movie      1\n",
              "770                                    Ireland, Canada    Movie      1\n",
              "771  Ireland, Canada, Luxembourg, United States, Un...    Movie      1\n",
              "772                                           Zimbabwe    Movie      1"
            ]
          },
          "metadata": {},
          "execution_count": 29
        }
      ]
    },
    {
      "cell_type": "markdown",
      "metadata": {
        "id": "o3nsXFylTTfZ"
      },
      "source": [
        "## <b>Is Netflix has increasingly focusing on TV rather than movies in recent years.\n",
        "\n"
      ]
    },
    {
      "cell_type": "code",
      "metadata": {
        "id": "mpjk8jpfT0Nr",
        "colab": {
          "base_uri": "https://localhost:8080/",
          "height": 359
        },
        "outputId": "90a13e1b-7fa3-416a-e69a-38953d9da57d"
      },
      "source": [
        "type_year_count = dataset[['type', 'release_year']].value_counts().reset_index().rename(columns={0: 'count'})\n",
        "type_year_count.head(10)"
      ],
      "execution_count": 30,
      "outputs": [
        {
          "output_type": "execute_result",
          "data": {
            "text/html": [
              "<div>\n",
              "<style scoped>\n",
              "    .dataframe tbody tr th:only-of-type {\n",
              "        vertical-align: middle;\n",
              "    }\n",
              "\n",
              "    .dataframe tbody tr th {\n",
              "        vertical-align: top;\n",
              "    }\n",
              "\n",
              "    .dataframe thead th {\n",
              "        text-align: right;\n",
              "    }\n",
              "</style>\n",
              "<table border=\"1\" class=\"dataframe\">\n",
              "  <thead>\n",
              "    <tr style=\"text-align: right;\">\n",
              "      <th></th>\n",
              "      <th>type</th>\n",
              "      <th>release_year</th>\n",
              "      <th>count</th>\n",
              "    </tr>\n",
              "  </thead>\n",
              "  <tbody>\n",
              "    <tr>\n",
              "      <th>0</th>\n",
              "      <td>Movie</td>\n",
              "      <td>2017</td>\n",
              "      <td>716</td>\n",
              "    </tr>\n",
              "    <tr>\n",
              "      <th>1</th>\n",
              "      <td>Movie</td>\n",
              "      <td>2018</td>\n",
              "      <td>688</td>\n",
              "    </tr>\n",
              "    <tr>\n",
              "      <th>2</th>\n",
              "      <td>Movie</td>\n",
              "      <td>2016</td>\n",
              "      <td>623</td>\n",
              "    </tr>\n",
              "    <tr>\n",
              "      <th>3</th>\n",
              "      <td>Movie</td>\n",
              "      <td>2019</td>\n",
              "      <td>531</td>\n",
              "    </tr>\n",
              "    <tr>\n",
              "      <th>4</th>\n",
              "      <td>TV Show</td>\n",
              "      <td>2020</td>\n",
              "      <td>417</td>\n",
              "    </tr>\n",
              "    <tr>\n",
              "      <th>5</th>\n",
              "      <td>Movie</td>\n",
              "      <td>2020</td>\n",
              "      <td>388</td>\n",
              "    </tr>\n",
              "    <tr>\n",
              "      <th>6</th>\n",
              "      <td>TV Show</td>\n",
              "      <td>2019</td>\n",
              "      <td>368</td>\n",
              "    </tr>\n",
              "    <tr>\n",
              "      <th>7</th>\n",
              "      <td>Movie</td>\n",
              "      <td>2015</td>\n",
              "      <td>363</td>\n",
              "    </tr>\n",
              "    <tr>\n",
              "      <th>8</th>\n",
              "      <td>TV Show</td>\n",
              "      <td>2018</td>\n",
              "      <td>332</td>\n",
              "    </tr>\n",
              "    <tr>\n",
              "      <th>9</th>\n",
              "      <td>TV Show</td>\n",
              "      <td>2017</td>\n",
              "      <td>241</td>\n",
              "    </tr>\n",
              "  </tbody>\n",
              "</table>\n",
              "</div>"
            ],
            "text/plain": [
              "      type  release_year  count\n",
              "0    Movie          2017    716\n",
              "1    Movie          2018    688\n",
              "2    Movie          2016    623\n",
              "3    Movie          2019    531\n",
              "4  TV Show          2020    417\n",
              "5    Movie          2020    388\n",
              "6  TV Show          2019    368\n",
              "7    Movie          2015    363\n",
              "8  TV Show          2018    332\n",
              "9  TV Show          2017    241"
            ]
          },
          "metadata": {},
          "execution_count": 30
        }
      ]
    },
    {
      "cell_type": "code",
      "metadata": {
        "id": "V10iP1s_EAr9",
        "colab": {
          "base_uri": "https://localhost:8080/",
          "height": 389
        },
        "outputId": "3159d986-a400-4e7b-a660-00c6d1cd4009"
      },
      "source": [
        "sns.lineplot('release_year', 'count', hue='type', data=type_year_count)\n",
        "rcParams['figure.figsize'] = 15,5"
      ],
      "execution_count": 31,
      "outputs": [
        {
          "output_type": "stream",
          "name": "stderr",
          "text": [
            "/usr/local/lib/python3.7/dist-packages/seaborn/_decorators.py:43: FutureWarning: Pass the following variables as keyword args: x, y. From version 0.12, the only valid positional argument will be `data`, and passing other arguments without an explicit keyword will result in an error or misinterpretation.\n",
            "  FutureWarning\n"
          ]
        },
        {
          "output_type": "display_data",
          "data": {
            "image/png": "[encoded data removed]",
            "text/plain": [
              "<Figure size 720x360 with 1 Axes>"
            ]
          },
          "metadata": {
            "needs_background": "light"
          }
        }
      ]
    },
    {
      "cell_type": "code",
      "metadata": {
        "id": "cBdZKaxTNW7Z",
        "colab": {
          "base_uri": "https://localhost:8080/",
          "height": 389
        },
        "outputId": "ea5dc883-ef6b-43df-ba00-e099dc70498d"
      },
      "source": [
        "sns.barplot('release_year', 'count', hue='type', data=type_year_count[:20])\n",
        "rcParams['figure.figsize'] = 14,7"
      ],
      "execution_count": 32,
      "outputs": [
        {
          "output_type": "stream",
          "name": "stderr",
          "text": [
            "/usr/local/lib/python3.7/dist-packages/seaborn/_decorators.py:43: FutureWarning: Pass the following variables as keyword args: x, y. From version 0.12, the only valid positional argument will be `data`, and passing other arguments without an explicit keyword will result in an error or misinterpretation.\n",
            "  FutureWarning\n"
          ]
        },
        {
          "output_type": "display_data",
          "data": {
            "image/png": "[encoded data removed]",
            "text/plain": [
              "<Figure size 1080x360 with 1 Axes>"
            ]
          },
          "metadata": {
            "needs_background": "light"
          }
        }
      ]
    },
    {
      "cell_type": "markdown",
      "metadata": {
        "id": "_d58zt8ZTXqm"
      },
      "source": [
        "# <b> Clustering similar content by matching text-based features"
      ]
    },
    {
      "cell_type": "code",
      "metadata": {
        "id": "ef4DAgTXT1Do",
        "colab": {
          "base_uri": "https://localhost:8080/",
          "height": 289
        },
        "outputId": "55525c8f-b362-4ec1-ce0b-3d427dfc77dc"
      },
      "source": [
        "dataset.head()"
      ],
      "execution_count": 33,
      "outputs": [
        {
          "output_type": "execute_result",
          "data": {
            "text/html": [
              "<div>\n",
              "<style scoped>\n",
              "    .dataframe tbody tr th:only-of-type {\n",
              "        vertical-align: middle;\n",
              "    }\n",
              "\n",
              "    .dataframe tbody tr th {\n",
              "        vertical-align: top;\n",
              "    }\n",
              "\n",
              "    .dataframe thead th {\n",
              "        text-align: right;\n",
              "    }\n",
              "</style>\n",
              "<table border=\"1\" class=\"dataframe\">\n",
              "  <thead>\n",
              "    <tr style=\"text-align: right;\">\n",
              "      <th></th>\n",
              "      <th>type</th>\n",
              "      <th>title</th>\n",
              "      <th>country</th>\n",
              "      <th>date_added</th>\n",
              "      <th>release_year</th>\n",
              "      <th>rating</th>\n",
              "      <th>duration</th>\n",
              "      <th>listed_in</th>\n",
              "      <th>description</th>\n",
              "    </tr>\n",
              "  </thead>\n",
              "  <tbody>\n",
              "    <tr>\n",
              "      <th>0</th>\n",
              "      <td>TV Show</td>\n",
              "      <td>3%</td>\n",
              "      <td>Brazil</td>\n",
              "      <td>August 14, 2020</td>\n",
              "      <td>2020</td>\n",
              "      <td>TV-MA</td>\n",
              "      <td>4 Seasons</td>\n",
              "      <td>International TV Shows, TV Dramas, TV Sci-Fi &amp;...</td>\n",
              "      <td>In a future where the elite inhabit an island ...</td>\n",
              "    </tr>\n",
              "    <tr>\n",
              "      <th>1</th>\n",
              "      <td>Movie</td>\n",
              "      <td>7:19</td>\n",
              "      <td>Mexico</td>\n",
              "      <td>December 23, 2016</td>\n",
              "      <td>2016</td>\n",
              "      <td>TV-MA</td>\n",
              "      <td>93 min</td>\n",
              "      <td>Dramas, International Movies</td>\n",
              "      <td>After a devastating earthquake hits Mexico Cit...</td>\n",
              "    </tr>\n",
              "    <tr>\n",
              "      <th>2</th>\n",
              "      <td>Movie</td>\n",
              "      <td>23:59</td>\n",
              "      <td>Singapore</td>\n",
              "      <td>December 20, 2018</td>\n",
              "      <td>2011</td>\n",
              "      <td>R</td>\n",
              "      <td>78 min</td>\n",
              "      <td>Horror Movies, International Movies</td>\n",
              "      <td>When an army recruit is found dead, his fellow...</td>\n",
              "    </tr>\n",
              "    <tr>\n",
              "      <th>3</th>\n",
              "      <td>Movie</td>\n",
              "      <td>9</td>\n",
              "      <td>United States</td>\n",
              "      <td>November 16, 2017</td>\n",
              "      <td>2009</td>\n",
              "      <td>PG-13</td>\n",
              "      <td>80 min</td>\n",
              "      <td>Action &amp; Adventure, Independent Movies, Sci-Fi...</td>\n",
              "      <td>In a postapocalyptic world, rag-doll robots hi...</td>\n",
              "    </tr>\n",
              "    <tr>\n",
              "      <th>4</th>\n",
              "      <td>Movie</td>\n",
              "      <td>21</td>\n",
              "      <td>United States</td>\n",
              "      <td>January 1, 2020</td>\n",
              "      <td>2008</td>\n",
              "      <td>PG-13</td>\n",
              "      <td>123 min</td>\n",
              "      <td>Dramas</td>\n",
              "      <td>A brilliant group of students become card-coun...</td>\n",
              "    </tr>\n",
              "  </tbody>\n",
              "</table>\n",
              "</div>"
            ],
            "text/plain": [
              "      type  ...                                        description\n",
              "0  TV Show  ...  In a future where the elite inhabit an island ...\n",
              "1    Movie  ...  After a devastating earthquake hits Mexico Cit...\n",
              "2    Movie  ...  When an army recruit is found dead, his fellow...\n",
              "3    Movie  ...  In a postapocalyptic world, rag-doll robots hi...\n",
              "4    Movie  ...  A brilliant group of students become card-coun...\n",
              "\n",
              "[5 rows x 9 columns]"
            ]
          },
          "metadata": {},
          "execution_count": 33
        }
      ]
    },
    {
      "cell_type": "code",
      "metadata": {
        "colab": {
          "base_uri": "https://localhost:8080/"
        },
        "id": "_hYiIn0hrfTA",
        "outputId": "d3cb11fb-78ed-46b0-8e8d-e1ee174fd539"
      },
      "source": [
        "description_data = dataset['description']\n",
        "description_data.head()"
      ],
      "execution_count": 34,
      "outputs": [
        {
          "output_type": "execute_result",
          "data": {
            "text/plain": [
              "0    In a future where the elite inhabit an island ...\n",
              "1    After a devastating earthquake hits Mexico Cit...\n",
              "2    When an army recruit is found dead, his fellow...\n",
              "3    In a postapocalyptic world, rag-doll robots hi...\n",
              "4    A brilliant group of students become card-coun...\n",
              "Name: description, dtype: object"
            ]
          },
          "metadata": {},
          "execution_count": 34
        }
      ]
    },
    {
      "cell_type": "markdown",
      "metadata": {
        "id": "7grMWMABTqq_"
      },
      "source": [
        "## <b> Preprocessing"
      ]
    },
    {
      "cell_type": "markdown",
      "metadata": {
        "id": "7h_RIobeHG5N"
      },
      "source": [
        "### **Removing punctuations**"
      ]
    },
    {
      "cell_type": "code",
      "metadata": {
        "_cell_guid": "19f1782b-f6f9-420c-a747-289c45e62687",
        "_uuid": "c1ae99d031c1248cedd74d84699d3c1cc6bd5078",
        "collapsed": true,
        "id": "IzFU_76wHG5O"
      },
      "source": [
        "def remove_punctuation(text):\n",
        "    '''a function for removing punctuation'''\n",
        "    import string\n",
        "    # replacing the punctuations with no space, \n",
        "    # which in effect deletes the punctuation marks \n",
        "    translator = str.maketrans('', '', string.punctuation)\n",
        "    # return the text stripped of punctuation marks\n",
        "    return text.translate(translator)"
      ],
      "execution_count": 35,
      "outputs": []
    },
    {
      "cell_type": "markdown",
      "metadata": {
        "id": "9UiCLG7aHG5O"
      },
      "source": [
        "### **Apply the function to each examples**"
      ]
    },
    {
      "cell_type": "code",
      "metadata": {
        "_cell_guid": "d2fafe6b-9bf1-4e90-bd25-bb003c29e180",
        "_uuid": "426c5f09a587d9cd04f2159b7111907a0e3a25a1",
        "id": "nNZUipCAHG5O",
        "colab": {
          "base_uri": "https://localhost:8080/"
        },
        "outputId": "7e07f308-6a57-40c1-e3b4-4257187924a0"
      },
      "source": [
        "description_data = description_data.apply(remove_punctuation)\n",
        "description_data.head()"
      ],
      "execution_count": 36,
      "outputs": [
        {
          "output_type": "execute_result",
          "data": {
            "text/plain": [
              "0    In a future where the elite inhabit an island ...\n",
              "1    After a devastating earthquake hits Mexico Cit...\n",
              "2    When an army recruit is found dead his fellow ...\n",
              "3    In a postapocalyptic world ragdoll robots hide...\n",
              "4    A brilliant group of students become cardcount...\n",
              "Name: description, dtype: object"
            ]
          },
          "metadata": {},
          "execution_count": 36
        }
      ]
    },
    {
      "cell_type": "code",
      "metadata": {
        "colab": {
          "base_uri": "https://localhost:8080/"
        },
        "id": "u3xyA0OYp2TQ",
        "outputId": "214f5c6f-2f6b-41f9-e164-8b55184bc3da"
      },
      "source": [
        "len(description_data)"
      ],
      "execution_count": 37,
      "outputs": [
        {
          "output_type": "execute_result",
          "data": {
            "text/plain": [
              "7265"
            ]
          },
          "metadata": {},
          "execution_count": 37
        }
      ]
    },
    {
      "cell_type": "markdown",
      "metadata": {
        "id": "3u_z6nReHG5P"
      },
      "source": [
        "### **Removing stopwords**"
      ]
    },
    {
      "cell_type": "markdown",
      "metadata": {
        "id": "Z-PqKXDnHG5P"
      },
      "source": [
        "**Extract the stop words**"
      ]
    },
    {
      "cell_type": "code",
      "metadata": {
        "id": "hzUiPHaBVu8S",
        "colab": {
          "base_uri": "https://localhost:8080/"
        },
        "outputId": "52aa70dd-a4e4-4ec1-b544-06a849877470"
      },
      "source": [
        "import nltk\n",
        "nltk.download('stopwords')"
      ],
      "execution_count": 38,
      "outputs": [
        {
          "output_type": "stream",
          "name": "stdout",
          "text": [
            "[nltk_data] Downloading package stopwords to /root/nltk_data...\n",
            "[nltk_data]   Package stopwords is already up-to-date!\n"
          ]
        },
        {
          "output_type": "execute_result",
          "data": {
            "text/plain": [
              "True"
            ]
          },
          "metadata": {},
          "execution_count": 38
        }
      ]
    },
    {
      "cell_type": "code",
      "metadata": {
        "colab": {
          "base_uri": "https://localhost:8080/"
        },
        "id": "GrUcIySusjbj",
        "outputId": "377dc785-1d83-46b3-aa2b-5f43e79bee90"
      },
      "source": [
        "# extracting the stopwords from nltk library\n",
        "from nltk.corpus import stopwords\n",
        "stop_words = set(stopwords.words('english'))\n",
        "np.array(stop_words)"
      ],
      "execution_count": 39,
      "outputs": [
        {
          "output_type": "execute_result",
          "data": {
            "text/plain": [
              "array({'we', 'doing', 'is', 'where', 'below', 'who', 'very', 'at', 'yourself', 'does', 'hadn', 'here', \"isn't\", 'mustn', 'that', 'how', 'most', 'weren', 'for', 'am', 'after', 'ain', 'theirs', 'will', 'haven', 'just', 'whom', 'our', 'his', 'was', 'has', 'shouldn', 'ours', 'because', 'them', 'in', 'o', 'ma', 'her', 'nor', 'some', 'through', 'both', 'out', \"hasn't\", 'aren', 'myself', 'again', 'be', 'under', \"couldn't\", \"it's\", 'had', 'mightn', 'if', 'of', 'a', 'she', \"hadn't\", 'or', 'it', 'an', \"shan't\", 'isn', 'such', 'itself', 'too', 'didn', 'll', 'when', 'i', 'from', 'were', 'me', 'this', \"haven't\", \"you're\", 'only', 'between', 'can', 'further', 'own', \"should've\", 'few', 'himself', 'before', 'your', 'until', 'him', 'they', 'now', 'and', \"mustn't\", 'do', 'down', 'wasn', 'other', \"weren't\", 'needn', 'as', 'on', 'by', 'these', 've', 'which', 'above', 'over', 'having', 'have', 'did', 'shan', 'themselves', 'against', 'the', 'there', 'herself', 'why', 'with', 'up', \"she's\", \"wouldn't\", 'to', 're', 'same', 'all', 'my', 'into', \"shouldn't\", 'off', 'than', 'hers', 'don', 'are', 'hasn', 'should', 'he', 'won', \"you've\", 'yourselves', 'more', 'doesn', \"doesn't\", 't', 'd', 'while', \"you'll\", 'those', 'during', \"don't\", 'y', 'couldn', \"aren't\", 'their', 'but', 'what', \"wasn't\", 'not', \"you'd\", \"that'll\", 'so', 'then', 'no', 's', 'm', 'being', 'been', \"won't\", 'yours', 'about', \"mightn't\", 'any', 'you', 'each', \"needn't\", 'its', 'once', \"didn't\", 'wouldn', 'ourselves'},\n",
              "      dtype=object)"
            ]
          },
          "metadata": {},
          "execution_count": 39
        }
      ]
    },
    {
      "cell_type": "code",
      "metadata": {
        "_cell_guid": "3f2f8acb-8929-4dc2-a79e-eb394e28ee78",
        "_uuid": "2e9d00e3a25a4a478fd6fb58a2983c11ea91839e",
        "id": "iWeUBe56HG5Q",
        "colab": {
          "base_uri": "https://localhost:8080/"
        },
        "outputId": "79f11f4b-78b4-4c68-f13e-86919fe30824"
      },
      "source": [
        "print(\"Number of stopwords: \", len(stop_words))"
      ],
      "execution_count": 41,
      "outputs": [
        {
          "output_type": "stream",
          "name": "stdout",
          "text": [
            "Number of stopwords:  179\n"
          ]
        }
      ]
    },
    {
      "cell_type": "markdown",
      "metadata": {
        "id": "MGo0-VueHG5Q"
      },
      "source": [
        "### **Function to remove stopwords**"
      ]
    },
    {
      "cell_type": "code",
      "metadata": {
        "_cell_guid": "ecf70a80-334e-42bc-a238-cd9ae39e324e",
        "_uuid": "4b1d9da7087c810c07fb77e0aa9081871b97af22",
        "collapsed": true,
        "id": "w_OrV6y3HG5R"
      },
      "source": [
        "def stopwords(text):\n",
        "    '''a function for removing the stopword'''\n",
        "    # removing the stop words and lowercasing the selected words\n",
        "    text = [word.lower() for word in text.split() if word.lower() not in stop_words]\n",
        "    # joining the list of words with space separator\n",
        "    return \" \".join(text)"
      ],
      "execution_count": 42,
      "outputs": []
    },
    {
      "cell_type": "code",
      "metadata": {
        "_cell_guid": "692cc993-932e-4c67-8b0b-20926e495e3a",
        "_uuid": "58301bc228c8ba1403cd5dcf9696b5bb2e5c9198",
        "scrolled": true,
        "id": "2N8WKEsPHG5R",
        "colab": {
          "base_uri": "https://localhost:8080/"
        },
        "outputId": "307161da-b73f-4af0-d372-8a600ef2b1fe"
      },
      "source": [
        "description_data = description_data.apply(stopwords)\n",
        "description_data.head()"
      ],
      "execution_count": 43,
      "outputs": [
        {
          "output_type": "execute_result",
          "data": {
            "text/plain": [
              "0    future elite inhabit island paradise far crowd...\n",
              "1    devastating earthquake hits mexico city trappe...\n",
              "2    army recruit found dead fellow soldiers forced...\n",
              "3    postapocalyptic world ragdoll robots hide fear...\n",
              "4    brilliant group students become cardcounting e...\n",
              "Name: description, dtype: object"
            ]
          },
          "metadata": {},
          "execution_count": 43
        }
      ]
    },
    {
      "cell_type": "markdown",
      "metadata": {
        "id": "AuD8Zdd2HG5S"
      },
      "source": [
        "### **Top words before stemming**"
      ]
    },
    {
      "cell_type": "markdown",
      "metadata": {
        "id": "edQ9GJVZHG5S"
      },
      "source": [
        "### **Collect vocabulary count**"
      ]
    },
    {
      "cell_type": "code",
      "metadata": {
        "_cell_guid": "e398cb01-a8c4-4ea8-afb1-428898ad7dab",
        "_uuid": "7ecc0e3ccf65dfc9a01271e5b84a9885b79d6754",
        "collapsed": true,
        "id": "JDosAAEpHG5S"
      },
      "source": [
        "# create a count vectorizer object\n",
        "count_vectorizer = CountVectorizer()\n",
        "# fit the count vectorizer using the text data\n",
        "count_vectorizer.fit(description_data)\n",
        "# collect the vocabulary items used in the vectorizer\n",
        "dictionary = count_vectorizer.vocabulary_.items()"
      ],
      "execution_count": 44,
      "outputs": []
    },
    {
      "cell_type": "markdown",
      "metadata": {
        "id": "hCZXzZOFHG5T"
      },
      "source": [
        "#### Store the vocab and counts in a pandas dataframe"
      ]
    },
    {
      "cell_type": "code",
      "metadata": {
        "_cell_guid": "85f9f01f-edd4-43a2-8375-a3801b7975f8",
        "_uuid": "559abc3827e7154cb6c9cbe662620eaca9184eed",
        "collapsed": true,
        "id": "Gx8XLye9HG5T"
      },
      "source": [
        "# lists to store the vocab and counts\n",
        "vocab = []\n",
        "count = []\n",
        "# iterate through each vocab and count append the value to designated lists\n",
        "for key, value in dictionary:\n",
        "    vocab.append(key)\n",
        "    count.append(value)\n",
        "# store the count in panadas dataframe with vocab as index\n",
        "vocab_bef_stem = pd.Series(count, index=vocab)\n",
        "# sort the dataframe\n",
        "vocab_bef_stem = vocab_bef_stem.sort_values(ascending=False)"
      ],
      "execution_count": 45,
      "outputs": []
    },
    {
      "cell_type": "markdown",
      "metadata": {
        "id": "E5L07QmQHG5U"
      },
      "source": [
        "#### **Bar plot of top words before stemming**"
      ]
    },
    {
      "cell_type": "code",
      "metadata": {
        "_cell_guid": "3c6f2850-ad05-4bef-b024-198d0267dd7d",
        "_uuid": "ed02e10fa9b1db3ce8d11269f973a7b60915285c",
        "scrolled": false,
        "id": "Zeqd44gfHG5U",
        "colab": {
          "base_uri": "https://localhost:8080/",
          "height": 609
        },
        "outputId": "d9be27a3-a6e7-4def-81f6-b2293c82aea9"
      },
      "source": [
        "top_vacab = vocab_bef_stem.head(20)\n",
        "top_vacab.plot(kind = 'barh', figsize=(5,10), xlim= (18890, 18920))"
      ],
      "execution_count": 46,
      "outputs": [
        {
          "output_type": "execute_result",
          "data": {
            "text/plain": [
              "<matplotlib.axes._subplots.AxesSubplot at 0x7f49a08d6390>"
            ]
          },
          "metadata": {},
          "execution_count": 46
        },
        {
          "output_type": "display_data",
          "data": {
            "image/png": "[encoded data removed]",
            "text/plain": [
              "<Figure size 360x720 with 1 Axes>"
            ]
          },
          "metadata": {
            "needs_background": "light"
          }
        }
      ]
    },
    {
      "cell_type": "markdown",
      "metadata": {
        "id": "Xi2h3IQPHG5U"
      },
      "source": [
        "###  **Stemming operations**"
      ]
    },
    {
      "cell_type": "markdown",
      "metadata": {
        "id": "5q5moQ41HG5V"
      },
      "source": [
        "### Stemming operation bundles together words of same root. e.g. stem operation bundles \"response\" and \"respond\" into a common \"respon\" "
      ]
    },
    {
      "cell_type": "markdown",
      "metadata": {
        "id": "OjzZ2P-NHG5V"
      },
      "source": [
        "**A funtion to carry out stemming operation**"
      ]
    },
    {
      "cell_type": "code",
      "metadata": {
        "_cell_guid": "da669b28-e6da-4f1c-b219-0161b5c2fb8b",
        "_uuid": "5967cc037e541f621ad817e262a83e23510a116f",
        "collapsed": true,
        "id": "gEyUTh0FHG5V"
      },
      "source": [
        "# create an object of stemming function\n",
        "stemmer = SnowballStemmer(\"english\")\n",
        "\n",
        "def stemming(text):    \n",
        "    '''a function which stems each word in the given text'''\n",
        "    text = [stemmer.stem(word) for word in text.split()]\n",
        "    return \" \".join(text) "
      ],
      "execution_count": 50,
      "outputs": []
    },
    {
      "cell_type": "markdown",
      "metadata": {
        "id": "Eb94viNlHG5W"
      },
      "source": [
        "**Apply the function to each examples**"
      ]
    },
    {
      "cell_type": "code",
      "metadata": {
        "_cell_guid": "9dfaf9e2-c77d-4f68-8b7b-aa26cda11707",
        "_uuid": "60d64a3db3e6dd388b27eac313735e722fdea6a0",
        "id": "LbEjqbUlHG5W",
        "colab": {
          "base_uri": "https://localhost:8080/"
        },
        "outputId": "8354e604-ad88-472c-d908-5bcfced2caf2"
      },
      "source": [
        "description_data = description_data.apply(stemming)\n",
        "description_data.head()"
      ],
      "execution_count": 51,
      "outputs": [
        {
          "output_type": "execute_result",
          "data": {
            "text/plain": [
              "0    futur elit inhabit island paradis far crowd sl...\n",
              "1    devast earthquak hit mexico citi trap survivor...\n",
              "2    armi recruit found dead fellow soldier forc co...\n",
              "3    postapocalypt world ragdol robot hide fear dan...\n",
              "4    brilliant group student becom cardcount expert...\n",
              "Name: description, dtype: object"
            ]
          },
          "metadata": {},
          "execution_count": 51
        }
      ]
    },
    {
      "cell_type": "markdown",
      "metadata": {
        "id": "vN0ZhAbeHG5W"
      },
      "source": [
        "### **Top words after stemming operation**"
      ]
    },
    {
      "cell_type": "markdown",
      "metadata": {
        "id": "PJ0HQZbdHG5X"
      },
      "source": [
        "**Collect vocabulary count**"
      ]
    },
    {
      "cell_type": "code",
      "metadata": {
        "_cell_guid": "e7cc96d8-20a4-4f8d-97d1-de69bd7981a3",
        "_uuid": "9135efbc2f7d23479d16480b4f0960a52d20cc00",
        "collapsed": true,
        "id": "5VtpB_NRHG5X"
      },
      "source": [
        "# create the object of tfid vectorizer\n",
        "tfid_vectorizer = TfidfVectorizer(\"english\")\n",
        "\n",
        "# fit the vectorizer using the text data\n",
        "tfid_vectorizer.fit(description_data)\n",
        "\n",
        "# collect the vocabulary items used in the vectorizer\n",
        "dictionary = tfid_vectorizer.vocabulary_.items()"
      ],
      "execution_count": 54,
      "outputs": []
    },
    {
      "cell_type": "markdown",
      "metadata": {
        "id": "-nlgecHIHG5X"
      },
      "source": [
        "**Bar plot of top words after stemming**"
      ]
    },
    {
      "cell_type": "code",
      "metadata": {
        "_cell_guid": "a8422280-9502-4551-8d67-038acd330c42",
        "_uuid": "caa0a0876ba968cfa73b296f67adaf31de0d8e73",
        "id": "chOHie2YHG5Y",
        "colab": {
          "base_uri": "https://localhost:8080/",
          "height": 609
        },
        "outputId": "1f943547-e681-4a36-b832-597ff64c7f6b"
      },
      "source": [
        "# lists to store the vocab and counts\n",
        "vocab = []\n",
        "count = []\n",
        "# iterate through each vocab and count append the value to designated lists\n",
        "for key, value in dictionary:\n",
        "    vocab.append(key)\n",
        "    count.append(value)\n",
        "# store the count in panadas dataframe with vocab as index\n",
        "vocab_after_stem = pd.Series(count, index=vocab)\n",
        "# sort the dataframe\n",
        "vocab_after_stem = vocab_after_stem.sort_values(ascending=False)\n",
        "# plot of the top vocab\n",
        "top_vacab = vocab_after_stem.head(20)\n",
        "top_vacab.plot(kind = 'barh', figsize=(5,10), xlim= (13740, 13770))"
      ],
      "execution_count": 55,
      "outputs": [
        {
          "output_type": "execute_result",
          "data": {
            "text/plain": [
              "<matplotlib.axes._subplots.AxesSubplot at 0x7f49a27833d0>"
            ]
          },
          "metadata": {},
          "execution_count": 55
        },
        {
          "output_type": "display_data",
          "data": {
            "image/png": "[encoded data removed]",
            "text/plain": [
              "<Figure size 360x720 with 1 Axes>"
            ]
          },
          "metadata": {
            "needs_background": "light"
          }
        }
      ]
    },
    {
      "cell_type": "code",
      "metadata": {
        "id": "teDs6B_zRDYb"
      },
      "source": [
        ""
      ],
      "execution_count": 55,
      "outputs": []
    },
    {
      "cell_type": "markdown",
      "metadata": {
        "_cell_guid": "19b5a00b-e1c1-433a-aa4c-490bdd40b798",
        "_uuid": "0efcc663a7c6a267b0eba42378d902002677d422",
        "id": "IYOsnYEAuYj8"
      },
      "source": [
        "## <b>Preprocessing</b>\n",
        "\n",
        "\n",
        "### The only preprocessing step required in our case is feature construction, where we take the sample of text headlines and represent them in some tractable feature space. In practice, this simply means converting each string to a numerical vector. This can be done using the ```CountVectorizer``` object from SKLearn, which yields an $n×K$ document-term matrix where $K$ is the number of distinct words  across the $n$ headlines in our sample (less stop words and with a limit of ```max_features```)."
      ]
    },
    {
      "cell_type": "code",
      "metadata": {
        "_cell_guid": "59988959-fa66-4c1f-9797-9a5ea3e6927d",
        "_uuid": "46fa661ac2dbb94d28fa1190172c52ddbce05c4a",
        "id": "-9KGNBe4uYj8",
        "colab": {
          "base_uri": "https://localhost:8080/"
        },
        "outputId": "74a46c70-1564-4149-a731-1f9b6f6ad81b"
      },
      "source": [
        "small_count_vectorizer = CountVectorizer(stop_words='english', max_features=4000)\n",
        "small_text_sample = description_data.sample(n=1000, random_state=0).values\n",
        "\n",
        "print('Headline before vectorization: {}'.format(small_text_sample[123]))\n",
        "\n",
        "small_document_term_matrix = small_count_vectorizer.fit_transform(small_text_sample)\n",
        "\n",
        "print('Headline after vectorization: \\n{}'.format(small_document_term_matrix[123]))"
      ],
      "execution_count": 56,
      "outputs": [
        {
          "output_type": "stream",
          "name": "stdout",
          "text": [
            "Headline before vectorization: excit trip big citi ski slope beyond veggi friend expand horizon learn valuabl faithbas lesson\n",
            "Headline after vectorization: \n",
            "  (0, 1598)\t1\n",
            "  (0, 1950)\t1\n",
            "  (0, 504)\t1\n",
            "  (0, 3737)\t1\n",
            "  (0, 1968)\t1\n",
            "  (0, 1491)\t1\n",
            "  (0, 3612)\t1\n",
            "  (0, 812)\t1\n",
            "  (0, 3106)\t1\n",
            "  (0, 3124)\t1\n",
            "  (0, 3751)\t1\n"
          ]
        }
      ]
    },
    {
      "cell_type": "markdown",
      "metadata": {
        "_cell_guid": "dc19ca30-8586-4a29-a0be-cd46e39ae4b3",
        "_uuid": "66eeb9d4c023e095911313862580f90d28f0d87f",
        "id": "eoujspGfuYj9"
      },
      "source": [
        "### Thus we have our (very high-rank and sparse) training data,  ```small_document_term_matrix```, and can now actually implement a clustering algorithm. Our choice will be Latent Dirichlet Allocation. IT  will take our document-term matrix as input and yield an $n \\times N$ topic matrix as output, where $N$ is the number of topic categories (which we supply as a parameter)."
      ]
    },
    {
      "cell_type": "markdown",
      "metadata": {
        "_cell_guid": "297d53ca-9738-4bfe-825a-68d44af2fa1d",
        "_uuid": "8a5b831010134d1a88350a7a2257d6c15d19b9fe",
        "id": "EAOKfDeIuYkE"
      },
      "source": [
        "## <b>Latent Dirichlet Allocation</b>\n",
        "\n",
        "### LDA is a generative probabilistic process, designed with the specific goal of uncovering latent topic structure in text corpora."
      ]
    },
    {
      "cell_type": "code",
      "metadata": {
        "_cell_guid": "c19bf4af-f399-4493-8fa5-d55e54e4f681",
        "_uuid": "0671476e00f484368beb747eb1529bfd680aa7fa",
        "id": "9iLe_nbRuYkE",
        "colab": {
          "base_uri": "https://localhost:8080/"
        },
        "outputId": "8d69a8e6-463f-4283-e41a-9405304e72a3"
      },
      "source": [
        "# Parameters tuning using Grid Search\n",
        "from sklearn.model_selection import GridSearchCV\n",
        "grid_params = {'n_components' : list(range(5,10))}\n",
        "\n",
        "# LDA model\n",
        "lda = LatentDirichletAllocation()\n",
        "lda_model = GridSearchCV(lda,param_grid=grid_params)\n",
        "lda_model.fit(small_document_term_matrix)\n",
        "\n",
        "# Best LDA model\n",
        "best_lda_model = lda_model.best_estimator_\n",
        "\n",
        "print(\"Best LDA model's params\" , lda_model.best_params_)\n",
        "print(\"Best log likelihood Score for the LDA model\",lda_model.best_score_)\n",
        "print(\"LDA model Perplexity on train data\", best_lda_model.perplexity(small_document_term_matrix))"
      ],
      "execution_count": 57,
      "outputs": [
        {
          "output_type": "stream",
          "name": "stderr",
          "text": [
            "/usr/local/lib/python3.7/dist-packages/sklearn/model_selection/_split.py:440: DeprecationWarning: `np.int` is a deprecated alias for the builtin `int`. To silence this warning, use `int` by itself. Doing this will not modify any behavior and is safe. When replacing `np.int`, you may wish to use e.g. `np.int64` or `np.int32` to specify the precision. If you wish to review your current use, check the release note link for additional information.\n",
            "Deprecated in NumPy 1.20; for more details and guidance: https://numpy.org/devdocs/release/1.20.0-notes.html#deprecations\n",
            "  fold_sizes = np.full(n_splits, n_samples // n_splits, dtype=np.int)\n",
            "/usr/local/lib/python3.7/dist-packages/sklearn/model_selection/_split.py:93: DeprecationWarning: `np.bool` is a deprecated alias for the builtin `bool`. To silence this warning, use `bool` by itself. Doing this will not modify any behavior and is safe. If you specifically wanted the numpy scalar type, use `np.bool_` here.\n",
            "Deprecated in NumPy 1.20; for more details and guidance: https://numpy.org/devdocs/release/1.20.0-notes.html#deprecations\n",
            "  test_mask = np.zeros(_num_samples(X), dtype=np.bool)\n",
            "/usr/local/lib/python3.7/dist-packages/sklearn/model_selection/_split.py:93: DeprecationWarning: `np.bool` is a deprecated alias for the builtin `bool`. To silence this warning, use `bool` by itself. Doing this will not modify any behavior and is safe. If you specifically wanted the numpy scalar type, use `np.bool_` here.\n",
            "Deprecated in NumPy 1.20; for more details and guidance: https://numpy.org/devdocs/release/1.20.0-notes.html#deprecations\n",
            "  test_mask = np.zeros(_num_samples(X), dtype=np.bool)\n",
            "/usr/local/lib/python3.7/dist-packages/sklearn/model_selection/_split.py:93: DeprecationWarning: `np.bool` is a deprecated alias for the builtin `bool`. To silence this warning, use `bool` by itself. Doing this will not modify any behavior and is safe. If you specifically wanted the numpy scalar type, use `np.bool_` here.\n",
            "Deprecated in NumPy 1.20; for more details and guidance: https://numpy.org/devdocs/release/1.20.0-notes.html#deprecations\n",
            "  test_mask = np.zeros(_num_samples(X), dtype=np.bool)\n",
            "/usr/local/lib/python3.7/dist-packages/sklearn/model_selection/_split.py:93: DeprecationWarning: `np.bool` is a deprecated alias for the builtin `bool`. To silence this warning, use `bool` by itself. Doing this will not modify any behavior and is safe. If you specifically wanted the numpy scalar type, use `np.bool_` here.\n",
            "Deprecated in NumPy 1.20; for more details and guidance: https://numpy.org/devdocs/release/1.20.0-notes.html#deprecations\n",
            "  test_mask = np.zeros(_num_samples(X), dtype=np.bool)\n",
            "/usr/local/lib/python3.7/dist-packages/sklearn/model_selection/_split.py:93: DeprecationWarning: `np.bool` is a deprecated alias for the builtin `bool`. To silence this warning, use `bool` by itself. Doing this will not modify any behavior and is safe. If you specifically wanted the numpy scalar type, use `np.bool_` here.\n",
            "Deprecated in NumPy 1.20; for more details and guidance: https://numpy.org/devdocs/release/1.20.0-notes.html#deprecations\n",
            "  test_mask = np.zeros(_num_samples(X), dtype=np.bool)\n",
            "/usr/local/lib/python3.7/dist-packages/sklearn/model_selection/_search.py:818: DeprecationWarning: `np.int` is a deprecated alias for the builtin `int`. To silence this warning, use `int` by itself. Doing this will not modify any behavior and is safe. When replacing `np.int`, you may wish to use e.g. `np.int64` or `np.int32` to specify the precision. If you wish to review your current use, check the release note link for additional information.\n",
            "Deprecated in NumPy 1.20; for more details and guidance: https://numpy.org/devdocs/release/1.20.0-notes.html#deprecations\n",
            "  dtype=np.int)\n"
          ]
        },
        {
          "output_type": "stream",
          "name": "stdout",
          "text": [
            "Best LDA model's params {'n_components': 5}\n",
            "Best log likelihood Score for the LDA model -31115.907411861997\n",
            "LDA model Perplexity on train data 4320.70532414561\n"
          ]
        }
      ]
    },
    {
      "cell_type": "markdown",
      "metadata": {
        "_cell_guid": "efef4bb1-e9c5-48db-bd16-1c08baeba814",
        "_uuid": "acec5dac6fac1dee4bf6e214c412a8435bcc6252",
        "id": "OoFis7t8uYkE"
      },
      "source": [
        "### Once again, we take the $\\arg \\max$ of each entry in the topic matrix to obtain the predicted topic category for each headline. These topic categories can then be characterised by their most frequent words.\n"
      ]
    },
    {
      "cell_type": "code",
      "metadata": {
        "id": "iVKIKKDS0oCw",
        "colab": {
          "base_uri": "https://localhost:8080/"
        },
        "outputId": "a9beb49c-c1e3-4db4-aa55-e0ceb7f93211"
      },
      "source": [
        "!pip install pyLDAvis"
      ],
      "execution_count": 58,
      "outputs": [
        {
          "output_type": "stream",
          "name": "stdout",
          "text": [
            "Requirement already satisfied: pyLDAvis in /usr/local/lib/python3.7/dist-packages (3.3.1)\n",
            "Requirement already satisfied: jinja2 in /usr/local/lib/python3.7/dist-packages (from pyLDAvis) (2.11.3)\n",
            "Requirement already satisfied: joblib in /usr/local/lib/python3.7/dist-packages (from pyLDAvis) (1.0.1)\n",
            "Requirement already satisfied: scikit-learn in /usr/local/lib/python3.7/dist-packages (from pyLDAvis) (0.22.2.post1)\n",
            "Requirement already satisfied: sklearn in /usr/local/lib/python3.7/dist-packages (from pyLDAvis) (0.0)\n",
            "Requirement already satisfied: numexpr in /usr/local/lib/python3.7/dist-packages (from pyLDAvis) (2.7.3)\n",
            "Requirement already satisfied: setuptools in /usr/local/lib/python3.7/dist-packages (from pyLDAvis) (57.4.0)\n",
            "Requirement already satisfied: funcy in /usr/local/lib/python3.7/dist-packages (from pyLDAvis) (1.16)\n",
            "Requirement already satisfied: numpy>=1.20.0 in /usr/local/lib/python3.7/dist-packages (from pyLDAvis) (1.21.3)\n",
            "Requirement already satisfied: gensim in /usr/local/lib/python3.7/dist-packages (from pyLDAvis) (3.6.0)\n",
            "Requirement already satisfied: pandas>=1.2.0 in /usr/local/lib/python3.7/dist-packages (from pyLDAvis) (1.3.4)\n",
            "Requirement already satisfied: future in /usr/local/lib/python3.7/dist-packages (from pyLDAvis) (0.16.0)\n",
            "Requirement already satisfied: scipy in /usr/local/lib/python3.7/dist-packages (from pyLDAvis) (1.4.1)\n",
            "Requirement already satisfied: pytz>=2017.3 in /usr/local/lib/python3.7/dist-packages (from pandas>=1.2.0->pyLDAvis) (2018.9)\n",
            "Requirement already satisfied: python-dateutil>=2.7.3 in /usr/local/lib/python3.7/dist-packages (from pandas>=1.2.0->pyLDAvis) (2.8.2)\n",
            "Requirement already satisfied: six>=1.5 in /usr/local/lib/python3.7/dist-packages (from python-dateutil>=2.7.3->pandas>=1.2.0->pyLDAvis) (1.15.0)\n",
            "Requirement already satisfied: smart-open>=1.2.1 in /usr/local/lib/python3.7/dist-packages (from gensim->pyLDAvis) (5.2.1)\n",
            "Requirement already satisfied: MarkupSafe>=0.23 in /usr/local/lib/python3.7/dist-packages (from jinja2->pyLDAvis) (2.0.1)\n"
          ]
        }
      ]
    },
    {
      "cell_type": "code",
      "metadata": {
        "id": "54Uu1siz0UiU"
      },
      "source": [
        "import pyLDAvis.sklearn\n",
        "\n",
        "pyLDAvis.enable_notebook()"
      ],
      "execution_count": 59,
      "outputs": []
    },
    {
      "cell_type": "code",
      "metadata": {
        "colab": {
          "base_uri": "https://localhost:8080/",
          "height": 1000
        },
        "id": "wivj2jEp1DKy",
        "outputId": "ee2b928e-623c-4398-edd2-87f751f9a7ed"
      },
      "source": [
        "lda_panel = pyLDAvis.sklearn.prepare(best_lda_model, small_document_term_matrix,small_count_vectorizer,mds='tsne')\n",
        "lda_panel"
      ],
      "execution_count": 60,
      "outputs": [
        {
          "output_type": "stream",
          "name": "stderr",
          "text": [
            "/usr/local/lib/python3.7/dist-packages/pyLDAvis/_prepare.py:247: FutureWarning: In a future version of pandas all arguments of DataFrame.drop except for the argument 'labels' will be keyword-only\n",
            "  by='saliency', ascending=False).head(R).drop('saliency', 1)\n",
            "/usr/local/lib/python3.7/dist-packages/sklearn/metrics/pairwise.py:56: DeprecationWarning: `np.float` is a deprecated alias for the builtin `float`. To silence this warning, use `float` by itself. Doing this will not modify any behavior and is safe. If you specifically wanted the numpy scalar type, use `np.float64` here.\n",
            "Deprecated in NumPy 1.20; for more details and guidance: https://numpy.org/devdocs/release/1.20.0-notes.html#deprecations\n",
            "  dtype = np.float\n",
            "/usr/local/lib/python3.7/dist-packages/sklearn/manifold/_t_sne.py:348: DeprecationWarning: `np.float` is a deprecated alias for the builtin `float`. To silence this warning, use `float` by itself. Doing this will not modify any behavior and is safe. If you specifically wanted the numpy scalar type, use `np.float64` here.\n",
            "Deprecated in NumPy 1.20; for more details and guidance: https://numpy.org/devdocs/release/1.20.0-notes.html#deprecations\n",
            "  error = np.finfo(np.float).max\n",
            "/usr/local/lib/python3.7/dist-packages/sklearn/manifold/_t_sne.py:349: DeprecationWarning: `np.float` is a deprecated alias for the builtin `float`. To silence this warning, use `float` by itself. Doing this will not modify any behavior and is safe. If you specifically wanted the numpy scalar type, use `np.float64` here.\n",
            "Deprecated in NumPy 1.20; for more details and guidance: https://numpy.org/devdocs/release/1.20.0-notes.html#deprecations\n",
            "  best_error = np.finfo(np.float).max\n",
            "/usr/local/lib/python3.7/dist-packages/sklearn/manifold/_t_sne.py:348: DeprecationWarning: `np.float` is a deprecated alias for the builtin `float`. To silence this warning, use `float` by itself. Doing this will not modify any behavior and is safe. If you specifically wanted the numpy scalar type, use `np.float64` here.\n",
            "Deprecated in NumPy 1.20; for more details and guidance: https://numpy.org/devdocs/release/1.20.0-notes.html#deprecations\n",
            "  error = np.finfo(np.float).max\n",
            "/usr/local/lib/python3.7/dist-packages/sklearn/manifold/_t_sne.py:349: DeprecationWarning: `np.float` is a deprecated alias for the builtin `float`. To silence this warning, use `float` by itself. Doing this will not modify any behavior and is safe. If you specifically wanted the numpy scalar type, use `np.float64` here.\n",
            "Deprecated in NumPy 1.20; for more details and guidance: https://numpy.org/devdocs/release/1.20.0-notes.html#deprecations\n",
            "  best_error = np.finfo(np.float).max\n"
          ]
        },
        {
          "output_type": "execute_result",
          "data": {
            "text/html": [
              "\n",
              "<link rel=\"stylesheet\" type=\"text/css\" href=\"https://cdn.jsdelivr.net/gh/bmabey/pyLDAvis@3.3.1/pyLDAvis/js/ldavis.v1.0.0.css\">\n",
              "\n",
              "\n",
              "<div id=\"ldavis_el3971399542327926568193869973\"></div>\n",
              "<script type=\"text/javascript\">\n",
              "\n",
              "var ldavis_el3971399542327926568193869973_data = {\"mdsDat\": {\"x\": [150.22215270996094, 51.16336441040039, -73.1445541381836, -66.4101333618164, 54.41732406616211], \"y\": [-72.2695541381836, -159.968017578125, 21.523815155029297, -110.60643768310547, 12.44344425201416], \"topics\": [1, 2, 3, 4, 5], \"cluster\": [1, 1, 1, 1, 1], \"Freq\": [22.115760108780087, 22.01765609871868, 21.732470265473324, 17.366276247990097, 16.76783727903782]}, \"tinfo\": {\"Term\": [\"father\", \"daughter\", \"game\", \"bring\", \"meet\", \"famili\", \"fall\", \"drug\", \"govern\", \"friendship\", \"journey\", \"live\", \"leader\", \"man\", \"tri\", \"peopl\", \"spirit\", \"drama\", \"seri\", \"inspir\", \"murder\", \"marriag\", \"film\", \"woman\", \"determin\", \"elit\", \"bond\", \"friend\", \"dog\", \"help\", \"friendship\", \"shi\", \"mischief\", \"mistaken\", \"trek\", \"flame\", \"cheat\", \"indonesia\", \"disillus\", \"cell\", \"cross\", \"protect\", \"blind\", \"pivot\", \"norman\", \"neil\", \"merliah\", \"burn\", \"domest\", \"entrepreneur\", \"loneli\", \"bright\", \"someon\", \"mall\", \"prohibit\", \"mental\", \"loyal\", \"viral\", \"attorney\", \"80s\", \"physic\", \"la\", \"suicid\", \"path\", \"tri\", \"old\", \"drama\", \"hes\", \"trio\", \"childhood\", \"york\", \"life\", \"ii\", \"neighbor\", \"heir\", \"devot\", \"dark\", \"help\", \"secret\", \"friend\", \"love\", \"make\", \"new\", \"year\", \"school\", \"teenag\", \"young\", \"discov\", \"group\", \"comedi\", \"live\", \"murder\", \"set\", \"high\", \"start\", \"woman\", \"turn\", \"agent\", \"famili\", \"world\", \"becom\", \"seek\", \"man\", \"basketbal\", \"tina\", \"100\", \"sugar\", \"shop\", \"betray\", \"poetri\", \"continu\", \"fund\", \"trust\", \"jake\", \"jack\", \"newman\", \"robber\", \"bibi\", \"gold\", \"narcot\", \"slew\", \"apprais\", \"consequ\", \"carter\", \"miami\", \"pianist\", \"tribut\", \"primari\", \"blend\", \"paint\", \"canadian\", \"heroin\", \"activ\", \"birth\", \"promis\", \"everyth\", \"crook\", \"father\", \"face\", \"famili\", \"day\", \"disappear\", \"inspir\", \"monster\", \"epic\", \"struggl\", \"complic\", \"island\", \"life\", \"juggl\", \"readi\", \"documentari\", \"follow\", \"school\", \"seri\", \"lead\", \"land\", \"young\", \"decid\", \"battl\", \"brother\", \"high\", \"unit\", \"year\", \"creatur\", \"legendari\", \"anim\", \"wife\", \"help\", \"group\", \"new\", \"friend\", \"work\", \"world\", \"artist\", \"set\", \"son\", \"woman\", \"home\", \"mysteri\", \"come\", \"live\", \"hors\", \"schooler\", \"cannabi\", \"sentenc\", \"arrang\", \"michael\", \"bitter\", \"beep\", \"lui\", \"pole\", \"rodney\", \"cyborg\", \"bawdi\", \"punjabi\", \"answer\", \"defi\", \"precious\", \"influenc\", \"denver\", \"basebal\", \"enterpris\", \"settl\", \"belief\", \"restor\", \"retel\", \"worldwid\", \"impress\", \"invad\", \"seth\", \"fallout\", \"question\", \"comput\", \"pop\", \"reunit\", \"fan\", \"bond\", \"stranger\", \"form\", \"french\", \"marriag\", \"meet\", \"daughter\", \"solv\", \"tell\", \"offer\", \"unravel\", \"event\", \"live\", \"children\", \"mysteri\", \"earth\", \"man\", \"differ\", \"romanc\", \"stori\", \"true\", \"come\", \"base\", \"special\", \"famili\", \"explor\", \"comic\", \"togeth\", \"love\", \"young\", \"becom\", \"son\", \"new\", \"hope\", \"chang\", \"adventur\", \"documentari\", \"make\", \"woman\", \"student\", \"world\", \"life\", \"tri\", \"friend\", \"south\", \"excel\", \"joseon\", \"perspect\", \"ruthless\", \"govern\", \"tribal\", \"intimid\", \"said\", \"blackmail\", \"finer\", \"thief\", \"cun\", \"william\", \"op\", \"entri\", \"blow\", \"franchis\", \"favorit\", \"labor\", \"berlin\", \"washington\", \"gone\", \"fourth\", \"analyst\", \"bureaucraci\", \"oppos\", \"kimmi\", \"dubious\", \"degre\", \"offici\", \"leader\", \"bring\", \"drug\", \"game\", \"lawyer\", \"elit\", \"film\", \"enter\", \"big\", \"center\", \"caught\", \"record\", \"lethal\", \"surviv\", \"movement\", \"gruel\", \"agre\", \"tradit\", \"resist\", \"amateur\", \"holiday\", \"world\", \"actor\", \"enemi\", \"murder\", \"death\", \"forc\", \"embark\", \"countri\", \"rich\", \"cop\", \"polic\", \"investig\", \"dream\", \"seri\", \"man\", \"becom\", \"plan\", \"husband\", \"learn\", \"life\", \"new\", \"friend\", \"special\", \"search\", \"young\", \"home\", \"love\", \"dispar\", \"fortun\", \"closer\", \"younger\", \"error\", \"madcap\", \"narrat\", \"worldweari\", \"select\", \"confess\", \"shed\", \"joy\", \"debaucheri\", \"gori\", \"succeed\", \"showbiz\", \"abduct\", \"believ\", \"thinker\", \"aerobat\", \"environ\", \"toughest\", \"sensual\", \"surfac\", \"unforeseen\", \"ajin\", \"superstit\", \"confin\", \"reach\", \"abandon\", \"dog\", \"fall\", \"peopl\", \"beauti\", \"intern\", \"place\", \"begin\", \"journey\", \"race\", \"ocean\", \"curious\", \"possess\", \"brain\", \"depart\", \"woman\", \"evil\", \"road\", \"friend\", \"spirit\", \"surpris\", \"haunt\", \"competit\", \"share\", \"becom\", \"home\", \"human\", \"man\", \"seri\", \"learn\", \"celebr\", \"world\", \"girl\", \"new\", \"young\", \"power\", \"comedian\", \"make\", \"famili\", \"life\", \"explor\", \"adventur\", \"forc\", \"love\"], \"Freq\": [25.0, 19.0, 17.0, 16.0, 24.0, 60.0, 19.0, 14.0, 8.0, 7.0, 16.0, 49.0, 9.0, 50.0, 27.0, 11.0, 9.0, 18.0, 37.0, 16.0, 25.0, 10.0, 19.0, 43.0, 10.0, 8.0, 11.0, 57.0, 7.0, 27.0, 7.153999298315961, 3.26595232338943, 3.2659517348825338, 2.4883437004060758, 2.4883416416231663, 2.488341563572974, 2.4883401337621955, 2.488339304455187, 2.4875350987778253, 2.4853383435774696, 2.481093755501168, 4.823637428920727, 1.7107340698434692, 1.7107338554126992, 1.710733385166088, 1.710733337238847, 1.7107332594392555, 1.710733218672192, 1.7107332092403948, 1.7107331684933595, 1.7107331700634136, 1.7107330041897948, 1.7107329972186271, 1.710732984666745, 1.7107328651259563, 1.7107328331824099, 1.7107328044397812, 1.7107328008240297, 1.7107327649489228, 1.7107327552830895, 3.2667605109254967, 3.2648552516766114, 3.267888184847694, 3.6198185772879112, 14.121472755422623, 9.500675900695523, 9.348346229383077, 8.717925681340741, 3.7585306737290045, 4.04675290145148, 5.37960569298408, 23.48713790229504, 3.267805243708016, 3.9564758236767963, 3.2667478311180247, 3.266771422680609, 6.381513262728755, 11.047266274874497, 10.092158463848596, 17.519118708117656, 13.247847592998381, 11.972825853276804, 16.804752129273215, 8.719152326670915, 10.51426737546363, 6.757439789002153, 15.631136702142738, 7.1579306475609545, 8.646918859759529, 6.556306575456489, 11.798868486672218, 8.073430677974532, 8.712409164396222, 8.28181516037546, 5.602696321681557, 10.195862425322945, 7.159804080200015, 5.219474830365748, 10.258138740993813, 9.480580887391188, 8.085820871734134, 6.202607072799248, 7.297252799073089, 3.2588884095482995, 2.4829618831182407, 2.4829610107851323, 2.482960956369123, 2.4829605876280003, 2.4829594405790796, 2.4829594283389884, 2.482959359403992, 2.482959318182799, 2.4829593136680352, 2.4829578146470177, 2.4426042757648596, 1.7070359511528115, 1.7070348490757155, 1.7070338450546025, 1.7070337665764768, 1.7070336843240679, 1.7070335983113165, 1.7070332755737594, 1.7070331727624013, 1.7070329969689906, 1.7070328580584548, 1.707032745511238, 1.707032747970865, 1.7070327389350146, 1.707032722894354, 1.707032701774511, 1.707032667653916, 1.7070326195237249, 1.7070326070147153, 3.8854736561825534, 3.2592457906293237, 4.811138342883079, 3.25986775379901, 15.679608804276791, 11.512104653377788, 23.66684658317857, 6.721593170988454, 4.037465730593524, 7.713635920610351, 3.6079916878292755, 3.2611414832029686, 10.446842454872074, 3.221634586901152, 4.813159038408062, 21.834182049378914, 2.483674876757434, 2.4834982228385765, 11.804792530145463, 9.339272369564599, 11.487609357211879, 12.583088960386187, 7.106661497987843, 5.428026281655211, 14.439169813203629, 5.595506149388436, 7.145300530630245, 7.920440627289884, 8.191397411502852, 4.0363667607660725, 7.144502832870781, 4.435946050684139, 4.036950935213342, 5.5898933648708535, 6.369115842959635, 7.6182361227620214, 7.142712944242464, 10.560226195139963, 10.400396060093524, 6.366599682285262, 9.455319616863997, 5.592535600262494, 6.657253554636124, 6.091709914309033, 6.818576593963602, 6.096889133539205, 6.100634170569111, 6.029343809092134, 6.35230239310351, 4.024250817035269, 2.477077941141851, 2.4770771440140877, 2.4770761760862468, 2.47637064278194, 2.4762180405313936, 1.7029895442448817, 1.7029892947624634, 1.7029892935143174, 1.7029892565370208, 1.7029892371560094, 1.7029891670951036, 1.7029889207187363, 1.7029887238480532, 1.7029886718192508, 1.702988638923846, 1.7029885985209958, 1.7029885292869622, 1.70298850362049, 1.7029884861060938, 1.7029884804595121, 1.7029883391034772, 1.7029882985083646, 1.7029882322851404, 1.7029881765179178, 1.7029881382301262, 1.7029880930504466, 1.7029880861706024, 1.7029880407803648, 1.702988015267242, 4.802858849588495, 3.25219488696241, 4.799787255780741, 4.727238685086045, 3.2514459817031023, 7.667724058243927, 3.2525644858118574, 3.2522191283002706, 3.25271447724921, 7.071623540775972, 14.681914465522691, 11.635368889877086, 4.027871376779908, 4.0267040170847235, 4.025350652075923, 4.026809104767277, 7.724224463358276, 23.567014195156858, 5.577050961239509, 12.557234810048106, 4.802421232232097, 20.086031255807217, 6.137412120333653, 4.802241545961187, 10.896654458375531, 11.005234273578292, 11.00629524404323, 7.907592921770152, 9.229816676666053, 17.937770071094924, 9.456639123374433, 7.005342073640508, 7.132445235181328, 12.381414945694367, 16.199113101055612, 11.941777028887719, 8.843013166567824, 14.38328064475401, 5.509638208740345, 5.943089521546657, 7.900715186909376, 8.67201842471485, 8.981024453513134, 9.654997166458768, 7.258020488454791, 9.43758176080974, 9.96974490272435, 7.126054435324447, 7.352433093956789, 3.11397908648446, 2.3725540817256894, 2.3725539618734506, 2.3725538920082316, 2.372553018160227, 6.827632307440854, 1.6311295031254753, 1.6311294513525583, 1.6311293692801057, 1.6311293626611705, 1.63112932181511, 1.6311292761206324, 1.6311290852930251, 1.6311290366371785, 1.6311289858143185, 1.6311289822814126, 1.6311288854933879, 1.6311288612689367, 1.6311288035200389, 1.6311287228737084, 1.6311286872375337, 1.6311286422874385, 1.6311282314859272, 1.6311278667848639, 1.6311277473909103, 1.6311275341986715, 1.6311268616870729, 1.6311242215374928, 1.6305944733120676, 1.6305942705874392, 3.1169422829896445, 6.086120533076405, 9.611002137807224, 8.292065867032868, 9.804036186203108, 3.8319044526016905, 4.599389228570758, 8.930056154981132, 3.8585495114432438, 6.093159587728724, 3.862181993528091, 5.344926783246576, 2.373313824585097, 2.3728366642937737, 5.344163401953244, 2.3735314381124826, 2.374503315341374, 2.374191999212638, 2.3739998936410975, 2.373819242174556, 2.3737445998641244, 2.3721853835278255, 15.736742754049269, 3.8577078212081077, 3.8611855002627626, 8.928690117402752, 6.83227722742844, 8.315456725014181, 5.348884076606197, 3.8613010028102095, 3.85973516595489, 6.225762035342618, 4.554625739975978, 5.9167155135545935, 6.627945511858254, 8.312181899104658, 8.894489048432352, 7.676917196049079, 5.213985258984101, 5.502615536717174, 6.083937245807743, 8.297540539950486, 7.559083978821645, 7.163967564941993, 5.343192653464893, 4.603466875753892, 6.373719240885862, 5.2545065943494595, 5.336092377566193, 2.3581706639702835, 2.358169911158343, 2.3581694286439507, 1.621241698565813, 1.6212409548151359, 1.6212409536004113, 1.621240926179421, 1.6212408504176297, 1.621240843260832, 1.621240717697142, 1.621240610144179, 1.621240562939445, 1.621240512801118, 1.6212404364098583, 1.6212402908926715, 1.6212402425676538, 1.6212402256499419, 1.6212402250358202, 1.6212401571917194, 1.621239947864316, 1.6212397273406067, 1.6212396017080368, 1.6212393409838575, 1.6212393409838575, 1.6212393409838575, 1.6212386247134638, 1.619409259085705, 1.618276930373688, 1.618276652813359, 3.0965083623777168, 4.5744865809891, 9.750273283855027, 6.053236529891558, 3.8203124495154808, 3.096149974665528, 3.0990462891620902, 7.169158676767088, 7.146452683602625, 5.318378551825185, 2.3590490813012805, 2.359873621074611, 2.3599850381009264, 2.358654643747414, 2.3573515494793433, 13.524524201387411, 5.181689378073434, 4.127852160328439, 15.406355655561386, 4.376938281546771, 3.097494404891868, 3.7409933690124912, 4.5777359743416985, 5.314480268964698, 9.113073165088359, 6.718556274146843, 4.573788858860431, 9.817583007382684, 8.263952798954273, 6.787471605647913, 4.576121486689751, 9.731439944153006, 5.531008408771073, 9.582421107376106, 9.407883255209986, 5.312614386932511, 4.5759365280593975, 6.045942812313941, 6.559442116370561, 6.326988087566005, 4.5734330663299785, 4.5718599559675726, 4.57061444152318, 4.625440703606868], \"Total\": [25.0, 19.0, 17.0, 16.0, 24.0, 60.0, 19.0, 14.0, 8.0, 7.0, 16.0, 49.0, 9.0, 50.0, 27.0, 11.0, 9.0, 18.0, 37.0, 16.0, 25.0, 10.0, 19.0, 43.0, 10.0, 8.0, 11.0, 57.0, 7.0, 27.0, 7.759681300016134, 3.871634011697122, 3.8716339934243575, 3.094024574365803, 3.094024514769198, 3.094024516439457, 3.094024474064491, 3.0940244507203274, 3.093987016736886, 3.093884863964737, 3.093687415982427, 6.202785650893731, 2.316415114870217, 2.3164151058721707, 2.31641509437339, 2.3164150910010655, 2.316415087332824, 2.31641508947322, 2.3164150882555323, 2.3164150871452223, 2.31641508997904, 2.316415081570678, 2.3164150795516605, 2.316415080881361, 2.3164150796431526, 2.316415077552816, 2.3164150747613186, 2.3164150757470017, 2.3164150772326235, 2.3164150762851197, 4.6130968358735505, 4.613085056185967, 4.645731793184773, 5.3712313655906465, 27.010190919157083, 17.665047716407372, 18.28880870776959, 16.9536106614853, 6.1452255793739265, 6.934462426521993, 10.04077729696446, 69.9155934819148, 5.384535629357165, 6.97316265751048, 5.419806593651432, 5.423490842843349, 13.104268720995494, 27.7794928810416, 25.273549595015673, 57.842271082671346, 39.8543978956056, 34.52157454989945, 58.88976405536494, 22.347350711082445, 30.715882283430926, 15.381404926514161, 62.051022112497826, 17.479151283568747, 24.609576163633278, 16.06379746785992, 49.99265729451233, 25.000744571718215, 29.07713641659082, 26.951916812976208, 13.10437553878565, 43.36379178087881, 22.12736128833238, 11.470261590693173, 60.077785733437544, 53.841664963267206, 39.497867139297696, 17.6170069061629, 50.245866022513255, 3.86490686606846, 3.088979224845139, 3.0889791966585465, 3.0889791964633395, 3.0889791919108425, 3.088979166329739, 3.0889791628292045, 3.0889791532914628, 3.0889791579408024, 3.088979159334131, 3.0889791198227403, 3.088883479910523, 2.3130515981256248, 2.313051570871727, 2.313051545391183, 2.3130515390092876, 2.313051537055665, 2.313051537594202, 2.3130515279816177, 2.313051527175049, 2.3130515212098173, 2.313051517338556, 2.3130515091832016, 2.313051517048665, 2.3130515151078583, 2.3130515158845157, 2.3130515118439514, 2.31305151311793, 2.313051508065206, 2.3130515095363324, 5.37027619316078, 4.601859101878198, 6.97193402351664, 4.606375582702542, 25.466487503833264, 21.60208582232567, 60.077785733437544, 13.02308554281888, 6.888798176284519, 16.282916062074065, 6.093243758158987, 5.380466396293767, 25.319105994427716, 5.338695891281673, 9.189242209634964, 69.9155934819148, 3.825945673763469, 3.8259368102790203, 31.449268659203494, 22.937253878720732, 30.715882283430926, 37.20613030894462, 16.86833785175556, 11.513069564034703, 62.051022112497826, 12.297285635532933, 19.949910290280258, 24.451891030216462, 26.951916812976208, 7.6021205412241235, 22.347350711082445, 9.128554031225748, 7.704618790169668, 14.551270302357683, 19.23408668059997, 27.7794928810416, 24.609576163633278, 58.88976405536494, 57.842271082671346, 19.905142168284012, 53.841664963267206, 15.315643083400644, 29.07713641659082, 23.647435389037703, 43.36379178087881, 24.223554936164163, 27.664480174190885, 26.230533279084256, 49.99265729451233, 4.631645348685242, 3.0834642802789842, 3.0834642606699734, 3.0834642399800285, 3.0834659021586885, 3.083466302276499, 2.3093749405372215, 2.309374932498103, 2.309374933280683, 2.309374937051321, 2.309374932857254, 2.309374926569345, 2.309374928433695, 2.309374924625657, 2.3093749208485224, 2.309374919561358, 2.309374918070598, 2.309374915213205, 2.3093749159335424, 2.3093749188294694, 2.3093749171964872, 2.3093749122300524, 2.3093749149880396, 2.3093749108804613, 2.309374909958106, 2.3093749105425476, 2.309374911954362, 2.3093749061386015, 2.3093749065311924, 2.309374908135725, 6.8842956777876765, 4.594533544858057, 6.957588591069508, 6.8761610553232515, 4.599017176402889, 11.57372259138086, 4.633477757058275, 4.633478615671787, 4.635155800092547, 10.800062436101117, 24.658888181297435, 19.218325562402395, 6.110117433850745, 6.11011998332364, 6.114521559472613, 6.146188900991218, 13.121352816158756, 49.99265729451233, 9.249764426895482, 27.664480174190885, 8.392407178052322, 50.245866022513255, 11.466981347585612, 8.4438379192747, 24.50321212250297, 25.287043247889585, 26.230533279084256, 16.939861293098133, 21.332704876598996, 60.077785733437544, 22.94809720098036, 15.264218979066875, 16.160727193334854, 39.8543978956056, 62.051022112497826, 39.497867139297696, 23.647435389037703, 58.88976405536494, 10.764070963317259, 13.132361659293789, 24.360327319852235, 31.449268659203494, 34.52157454989945, 43.36379178087881, 20.646447513178742, 53.841664963267206, 69.9155934819148, 27.010190919157083, 57.842271082671346, 3.726896790621398, 2.9854717326968516, 2.985471738121113, 2.98547173927774, 2.9854717689208154, 8.948422490981375, 2.2440466664869225, 2.2440466676033783, 2.2440466722869847, 2.2440466709124514, 2.2440466723546404, 2.2440466736820928, 2.2440466751497166, 2.244046679478362, 2.2440466835941253, 2.2440466821640466, 2.244046684937597, 2.2440466861222115, 2.2440466875642193, 2.244046693515184, 2.244046691774746, 2.244046696011891, 2.2440467049248207, 2.2440467178236596, 2.2440467231036223, 2.2440467325773343, 2.244046748258993, 2.2440468271404326, 2.2440702049502206, 2.24407021076914, 4.502686369102807, 9.718199514138494, 16.569805074062216, 14.272798457673991, 17.386901730260515, 6.0193684861445895, 8.196307187515924, 19.67599555154635, 6.717983552984323, 12.086099509171047, 6.7550845025896615, 10.52485756213977, 3.7224069777731144, 3.722445365134518, 11.383717453978992, 3.7595179332034743, 3.7629858458920595, 3.7630010812011676, 3.76301043559139, 3.763019276064423, 3.7630229259526926, 3.7630910469838894, 53.841664963267206, 7.456595468340899, 7.49358701863797, 25.000744571718215, 18.916818419289847, 25.75526817548865, 13.592442333796006, 8.345682939198078, 8.340392875507403, 18.93072703891068, 11.417183696994362, 18.120533461118583, 22.806233155817452, 37.20613030894462, 50.245866022513255, 39.497867139297696, 16.636624713723695, 19.90082473829414, 26.521254765647573, 69.9155934819148, 58.88976405536494, 57.842271082671346, 21.332704876598996, 12.895524303376963, 62.051022112497826, 24.223554936164163, 39.8543978956056, 2.971987800860753, 2.971987831382388, 2.9719878516865283, 2.235057359466432, 2.2350573888808034, 2.235057388230311, 2.2350573902252036, 2.2350573908847204, 2.2350573952365203, 2.2350573961031497, 2.2350574040739444, 2.235057406503283, 2.2350574071192466, 2.2350574011109257, 2.2350574146873052, 2.2350574172915176, 2.235057416565084, 2.2350574179187253, 2.235057421105828, 2.2350574263756524, 2.235057438213244, 2.2350574404973633, 2.235057448243978, 2.235057448243978, 2.235057448243978, 2.2350574817376905, 2.2351584021458515, 2.235211774653041, 2.2352117860787395, 4.45034625677737, 7.51180103402329, 19.616328162661382, 11.27555276563319, 6.777565099224054, 5.191762103762068, 5.226129013770229, 16.658509287591045, 16.691104454738525, 11.281239903570796, 3.7134076867118946, 3.7459911904934415, 3.7478193114658316, 3.7460228130332185, 3.7460832246373568, 43.36379178087881, 11.288905927724562, 8.275873451620694, 57.842271082671346, 9.678042794109036, 6.032901057573662, 8.330372796379946, 12.058237716361862, 15.964496753217936, 39.497867139297696, 24.223554936164163, 12.828930314155393, 50.245866022513255, 37.20613030894462, 26.521254765647573, 12.864053362814658, 53.841664963267206, 18.99491234566867, 58.88976405536494, 62.051022112497826, 19.73855049894641, 14.424253697300434, 34.52157454989945, 60.077785733437544, 69.9155934819148, 22.94809720098036, 24.360327319852235, 25.75526817548865, 39.8543978956056], \"Category\": [\"Default\", \"Default\", \"Default\", \"Default\", \"Default\", \"Default\", \"Default\", \"Default\", \"Default\", \"Default\", \"Default\", \"Default\", \"Default\", \"Default\", \"Default\", \"Default\", \"Default\", \"Default\", \"Default\", \"Default\", \"Default\", \"Default\", \"Default\", \"Default\", \"Default\", \"Default\", \"Default\", \"Default\", \"Default\", \"Default\", \"Topic1\", \"Topic1\", \"Topic1\", \"Topic1\", \"Topic1\", \"Topic1\", \"Topic1\", \"Topic1\", \"Topic1\", \"Topic1\", \"Topic1\", \"Topic1\", \"Topic1\", \"Topic1\", \"Topic1\", \"Topic1\", \"Topic1\", \"Topic1\", \"Topic1\", \"Topic1\", \"Topic1\", \"Topic1\", \"Topic1\", \"Topic1\", \"Topic1\", \"Topic1\", \"Topic1\", \"Topic1\", \"Topic1\", \"Topic1\", \"Topic1\", \"Topic1\", \"Topic1\", \"Topic1\", \"Topic1\", \"Topic1\", \"Topic1\", \"Topic1\", \"Topic1\", \"Topic1\", \"Topic1\", \"Topic1\", \"Topic1\", \"Topic1\", \"Topic1\", \"Topic1\", \"Topic1\", \"Topic1\", \"Topic1\", \"Topic1\", \"Topic1\", \"Topic1\", \"Topic1\", \"Topic1\", \"Topic1\", \"Topic1\", \"Topic1\", \"Topic1\", \"Topic1\", \"Topic1\", \"Topic1\", \"Topic1\", \"Topic1\", \"Topic1\", \"Topic1\", \"Topic1\", \"Topic1\", \"Topic1\", \"Topic1\", \"Topic1\", \"Topic1\", \"Topic1\", \"Topic1\", \"Topic2\", \"Topic2\", \"Topic2\", \"Topic2\", \"Topic2\", \"Topic2\", \"Topic2\", \"Topic2\", \"Topic2\", \"Topic2\", \"Topic2\", \"Topic2\", \"Topic2\", \"Topic2\", \"Topic2\", \"Topic2\", \"Topic2\", \"Topic2\", \"Topic2\", \"Topic2\", \"Topic2\", \"Topic2\", \"Topic2\", \"Topic2\", \"Topic2\", \"Topic2\", \"Topic2\", \"Topic2\", \"Topic2\", \"Topic2\", \"Topic2\", \"Topic2\", \"Topic2\", \"Topic2\", \"Topic2\", \"Topic2\", \"Topic2\", \"Topic2\", \"Topic2\", \"Topic2\", \"Topic2\", \"Topic2\", \"Topic2\", \"Topic2\", \"Topic2\", \"Topic2\", \"Topic2\", \"Topic2\", \"Topic2\", \"Topic2\", \"Topic2\", \"Topic2\", \"Topic2\", \"Topic2\", \"Topic2\", \"Topic2\", \"Topic2\", \"Topic2\", \"Topic2\", \"Topic2\", \"Topic2\", \"Topic2\", \"Topic2\", \"Topic2\", \"Topic2\", \"Topic2\", \"Topic2\", \"Topic2\", \"Topic2\", \"Topic2\", \"Topic2\", \"Topic2\", \"Topic2\", \"Topic2\", \"Topic2\", \"Topic2\", \"Topic2\", \"Topic2\", \"Topic2\", \"Topic3\", \"Topic3\", \"Topic3\", \"Topic3\", \"Topic3\", \"Topic3\", \"Topic3\", \"Topic3\", \"Topic3\", \"Topic3\", \"Topic3\", \"Topic3\", \"Topic3\", \"Topic3\", \"Topic3\", \"Topic3\", \"Topic3\", \"Topic3\", \"Topic3\", \"Topic3\", \"Topic3\", \"Topic3\", \"Topic3\", \"Topic3\", \"Topic3\", \"Topic3\", \"Topic3\", \"Topic3\", \"Topic3\", \"Topic3\", \"Topic3\", \"Topic3\", \"Topic3\", \"Topic3\", \"Topic3\", \"Topic3\", \"Topic3\", \"Topic3\", \"Topic3\", \"Topic3\", \"Topic3\", \"Topic3\", \"Topic3\", \"Topic3\", \"Topic3\", \"Topic3\", \"Topic3\", \"Topic3\", \"Topic3\", \"Topic3\", \"Topic3\", \"Topic3\", \"Topic3\", \"Topic3\", \"Topic3\", \"Topic3\", \"Topic3\", \"Topic3\", \"Topic3\", \"Topic3\", \"Topic3\", \"Topic3\", \"Topic3\", \"Topic3\", \"Topic3\", \"Topic3\", \"Topic3\", \"Topic3\", \"Topic3\", \"Topic3\", \"Topic3\", \"Topic3\", \"Topic3\", \"Topic3\", \"Topic3\", \"Topic3\", \"Topic3\", \"Topic3\", \"Topic3\", \"Topic4\", \"Topic4\", \"Topic4\", \"Topic4\", \"Topic4\", \"Topic4\", \"Topic4\", \"Topic4\", \"Topic4\", \"Topic4\", \"Topic4\", \"Topic4\", \"Topic4\", \"Topic4\", \"Topic4\", \"Topic4\", \"Topic4\", \"Topic4\", \"Topic4\", \"Topic4\", \"Topic4\", \"Topic4\", \"Topic4\", \"Topic4\", \"Topic4\", \"Topic4\", \"Topic4\", \"Topic4\", \"Topic4\", \"Topic4\", \"Topic4\", \"Topic4\", \"Topic4\", \"Topic4\", \"Topic4\", \"Topic4\", \"Topic4\", \"Topic4\", \"Topic4\", \"Topic4\", \"Topic4\", \"Topic4\", \"Topic4\", \"Topic4\", \"Topic4\", \"Topic4\", \"Topic4\", \"Topic4\", \"Topic4\", \"Topic4\", \"Topic4\", \"Topic4\", \"Topic4\", \"Topic4\", \"Topic4\", \"Topic4\", \"Topic4\", \"Topic4\", \"Topic4\", \"Topic4\", \"Topic4\", \"Topic4\", \"Topic4\", \"Topic4\", \"Topic4\", \"Topic4\", \"Topic4\", \"Topic4\", \"Topic4\", \"Topic4\", \"Topic4\", \"Topic4\", \"Topic4\", \"Topic4\", \"Topic4\", \"Topic4\", \"Topic4\", \"Topic4\", \"Topic4\", \"Topic5\", \"Topic5\", \"Topic5\", \"Topic5\", \"Topic5\", \"Topic5\", \"Topic5\", \"Topic5\", \"Topic5\", \"Topic5\", \"Topic5\", \"Topic5\", \"Topic5\", \"Topic5\", \"Topic5\", \"Topic5\", \"Topic5\", \"Topic5\", \"Topic5\", \"Topic5\", \"Topic5\", \"Topic5\", \"Topic5\", \"Topic5\", \"Topic5\", \"Topic5\", \"Topic5\", \"Topic5\", \"Topic5\", \"Topic5\", \"Topic5\", \"Topic5\", \"Topic5\", \"Topic5\", \"Topic5\", \"Topic5\", \"Topic5\", \"Topic5\", \"Topic5\", \"Topic5\", \"Topic5\", \"Topic5\", \"Topic5\", \"Topic5\", \"Topic5\", \"Topic5\", \"Topic5\", \"Topic5\", \"Topic5\", \"Topic5\", \"Topic5\", \"Topic5\", \"Topic5\", \"Topic5\", \"Topic5\", \"Topic5\", \"Topic5\", \"Topic5\", \"Topic5\", \"Topic5\", \"Topic5\", \"Topic5\", \"Topic5\", \"Topic5\", \"Topic5\", \"Topic5\", \"Topic5\", \"Topic5\", \"Topic5\", \"Topic5\", \"Topic5\", \"Topic5\", \"Topic5\"], \"logprob\": [30.0, 29.0, 28.0, 27.0, 26.0, 25.0, 24.0, 23.0, 22.0, 21.0, 20.0, 19.0, 18.0, 17.0, 16.0, 15.0, 14.0, 13.0, 12.0, 11.0, 10.0, 9.0, 8.0, 7.0, 6.0, 5.0, 4.0, 3.0, 2.0, 1.0, -5.9865, -6.7706, -6.7706, -7.0425, -7.0425, -7.0425, -7.0425, -7.0425, -7.0429, -7.0438, -7.0455, -6.3806, -7.4172, -7.4172, -7.4172, -7.4172, -7.4172, -7.4172, -7.4172, -7.4172, -7.4172, -7.4172, -7.4172, -7.4172, -7.4172, -7.4172, -7.4172, -7.4172, -7.4172, -7.4172, -6.7704, -6.7709, -6.77, -6.6677, -5.3065, -5.7028, -5.719, -5.7888, -6.6301, -6.5562, -6.2715, -4.7977, -6.77, -6.5788, -6.7704, -6.7704, -6.1008, -5.552, -5.6424, -5.0909, -5.3703, -5.4715, -5.1325, -5.7886, -5.6014, -6.0435, -5.2049, -5.9859, -5.797, -6.0737, -5.4862, -5.8656, -5.7894, -5.8401, -6.2309, -5.6322, -5.9857, -6.3018, -5.6261, -5.7049, -5.8641, -6.1292, -5.9667, -6.7683, -7.0403, -7.0403, -7.0403, -7.0403, -7.0403, -7.0403, -7.0403, -7.0403, -7.0403, -7.0403, -7.0567, -7.415, -7.415, -7.415, -7.415, -7.415, -7.415, -7.415, -7.415, -7.415, -7.415, -7.415, -7.415, -7.415, -7.415, -7.415, -7.415, -7.415, -7.415, -6.5925, -6.7682, -6.3788, -6.768, -5.1974, -5.5063, -4.7856, -6.0444, -6.5541, -5.9067, -6.6666, -6.7676, -5.6034, -6.7798, -6.3784, -4.8662, -7.04, -7.04, -5.4812, -5.7155, -5.5084, -5.4174, -5.9887, -6.2581, -5.2798, -6.2278, -5.9833, -5.8803, -5.8466, -6.5544, -5.9834, -6.46, -6.5542, -6.2288, -6.0983, -5.9192, -5.9836, -5.5926, -5.6079, -6.0987, -5.7031, -6.2283, -6.054, -6.1428, -6.0301, -6.1419, -6.1413, -6.1531, -6.1009, -6.5443, -7.0296, -7.0296, -7.0296, -7.0299, -7.0299, -7.4043, -7.4043, -7.4043, -7.4043, -7.4043, -7.4043, -7.4043, -7.4043, -7.4043, -7.4043, -7.4043, -7.4043, -7.4043, -7.4043, -7.4043, -7.4043, -7.4043, -7.4043, -7.4043, -7.4043, -7.4043, -7.4043, -7.4043, -7.4043, -6.3675, -6.7573, -6.3681, -6.3833, -6.7576, -5.8997, -6.7572, -6.7573, -6.7572, -5.9806, -5.2501, -5.4826, -6.5434, -6.5437, -6.5441, -6.5437, -5.8923, -4.7768, -6.218, -5.4064, -6.3676, -4.9367, -6.1223, -6.3676, -5.5482, -5.5383, -5.5382, -5.8689, -5.7142, -5.0498, -5.69, -5.99, -5.972, -5.4205, -5.1517, -5.4566, -5.7571, -5.2706, -6.2302, -6.1545, -5.8697, -5.7766, -5.7416, -5.6692, -5.9546, -5.692, -5.6371, -5.9729, -5.9416, -6.5765, -6.8484, -6.8484, -6.8484, -6.8484, -5.7914, -7.2231, -7.2231, -7.2231, -7.2231, -7.2231, -7.2231, -7.2231, -7.2231, -7.2231, -7.2231, -7.2231, -7.2231, -7.2231, -7.2231, -7.2231, -7.2231, -7.2231, -7.2231, -7.2231, -7.2231, -7.2231, -7.2231, -7.2235, -7.2235, -6.5756, -5.9064, -5.4495, -5.5971, -5.4296, -6.369, -6.1865, -5.523, -6.3621, -5.9052, -6.3612, -6.0363, -6.8481, -6.8483, -6.0364, -6.848, -6.8476, -6.8477, -6.8478, -6.8479, -6.8479, -6.8486, -4.9564, -6.3623, -6.3614, -5.5231, -5.7907, -5.5943, -6.0355, -6.3614, -6.3618, -5.8837, -6.1963, -5.9346, -5.8211, -5.5947, -5.527, -5.6742, -6.0611, -6.0072, -5.9068, -5.5964, -5.6897, -5.7433, -6.0366, -6.1856, -5.8602, -6.0533, -6.0379, -6.8194, -6.8194, -6.8194, -7.1941, -7.1941, -7.1941, -7.1941, -7.1941, -7.1941, -7.1941, -7.1941, -7.1941, -7.1941, -7.1941, -7.1941, -7.1941, -7.1941, -7.1941, -7.1941, -7.1941, -7.1941, -7.1941, -7.1941, -7.1941, -7.1941, -7.1941, -7.1953, -7.196, -7.196, -6.5471, -6.1568, -5.4, -5.8767, -6.337, -6.5472, -6.5462, -5.7075, -5.7107, -6.0062, -6.8191, -6.8187, -6.8187, -6.8192, -6.8198, -5.0728, -6.0322, -6.2596, -4.9426, -6.201, -6.5467, -6.358, -6.1561, -6.0069, -5.4676, -5.7725, -6.157, -5.3932, -5.5654, -5.7623, -6.1565, -5.402, -5.967, -5.4174, -5.4358, -6.0073, -6.1565, -5.8779, -5.7964, -5.8325, -6.1571, -6.1574, -6.1577, -6.1458], \"loglift\": [30.0, 29.0, 28.0, 27.0, 26.0, 25.0, 24.0, 23.0, 22.0, 21.0, 20.0, 19.0, 18.0, 17.0, 16.0, 15.0, 14.0, 13.0, 12.0, 11.0, 10.0, 9.0, 8.0, 7.0, 6.0, 5.0, 4.0, 3.0, 2.0, 1.0, 1.4276, 1.3388, 1.3388, 1.291, 1.291, 1.291, 1.291, 1.291, 1.2907, 1.2899, 1.2882, 1.2574, 1.2058, 1.2058, 1.2058, 1.2058, 1.2058, 1.2058, 1.2058, 1.2058, 1.2058, 1.2058, 1.2058, 1.2058, 1.2058, 1.2058, 1.2058, 1.2058, 1.2058, 1.2058, 1.1638, 1.1632, 1.1571, 1.1142, 0.8604, 0.8887, 0.8378, 0.8438, 1.0172, 0.9703, 0.8848, 0.418, 1.0095, 0.9422, 1.0026, 1.0019, 0.7893, 0.5868, 0.5909, 0.3145, 0.4075, 0.4499, 0.2549, 0.5677, 0.4368, 0.6864, 0.1302, 0.6161, 0.4629, 0.6127, 0.065, 0.3786, 0.3037, 0.3289, 0.6592, 0.0612, 0.3805, 0.7215, -0.2587, -0.2279, -0.0773, 0.465, -0.4206, 1.3428, 1.2949, 1.2949, 1.2949, 1.2949, 1.2949, 1.2949, 1.2949, 1.2949, 1.2949, 1.2949, 1.2786, 1.2095, 1.2095, 1.2095, 1.2095, 1.2095, 1.2095, 1.2095, 1.2095, 1.2095, 1.2095, 1.2095, 1.2095, 1.2095, 1.2095, 1.2095, 1.2095, 1.2095, 1.2095, 1.1897, 1.1684, 1.1424, 1.1676, 1.0283, 0.8839, 0.5818, 0.8519, 0.979, 0.7662, 0.9893, 1.0126, 0.6281, 1.0082, 0.8666, 0.3495, 1.0813, 1.0812, 0.5335, 0.6148, 0.5298, 0.4292, 0.6489, 0.7614, 0.0553, 0.7259, 0.4866, 0.3861, 0.3224, 0.8802, 0.373, 0.7917, 0.867, 0.5566, 0.4081, 0.2196, 0.2763, -0.2052, -0.2026, 0.3734, -0.2261, 0.5059, 0.0391, 0.157, -0.3366, 0.1338, 0.0016, 0.043, -0.5497, 1.3858, 1.3074, 1.3074, 1.3074, 1.3071, 1.307, 1.2218, 1.2218, 1.2218, 1.2218, 1.2218, 1.2218, 1.2218, 1.2218, 1.2218, 1.2218, 1.2218, 1.2218, 1.2218, 1.2218, 1.2218, 1.2218, 1.2218, 1.2218, 1.2218, 1.2218, 1.2218, 1.2218, 1.2218, 1.2218, 1.1663, 1.1808, 1.1551, 1.1516, 1.1796, 1.1146, 1.1725, 1.1724, 1.1722, 1.1029, 1.0078, 1.0245, 1.1097, 1.1094, 1.1083, 1.1035, 0.9965, 0.7743, 1.0204, 0.7365, 0.9682, 0.6095, 0.9013, 0.962, 0.716, 0.6944, 0.6579, 0.7645, 0.6886, 0.3176, 0.6398, 0.7475, 0.7084, 0.3573, 0.1834, 0.3302, 0.5427, 0.1168, 0.8566, 0.7335, 0.4004, 0.2381, 0.1799, 0.0242, 0.4809, -0.215, -0.4214, 0.1939, -0.5363, 1.571, 1.5208, 1.5208, 1.5208, 1.5208, 1.4801, 1.4316, 1.4316, 1.4316, 1.4316, 1.4316, 1.4316, 1.4316, 1.4316, 1.4316, 1.4316, 1.4316, 1.4316, 1.4316, 1.4316, 1.4316, 1.4316, 1.4316, 1.4316, 1.4316, 1.4316, 1.4316, 1.4316, 1.4313, 1.4313, 1.3828, 1.2827, 1.206, 1.2076, 1.1777, 1.299, 1.1729, 0.9607, 1.1961, 1.0658, 1.1916, 1.073, 1.3006, 1.3003, 0.9945, 1.2907, 1.2902, 1.2901, 1.29, 1.2899, 1.2899, 1.2892, 0.5206, 1.0916, 1.0876, 0.721, 0.7322, 0.6201, 0.818, 0.9799, 0.9801, 0.6385, 0.8317, 0.6314, 0.5149, 0.2519, 0.0191, 0.1126, 0.5904, 0.4651, 0.2783, -0.3807, -0.3023, -0.338, 0.3662, 0.7206, -0.5251, 0.2224, -0.2601, 1.5544, 1.5544, 1.5544, 1.4646, 1.4646, 1.4646, 1.4646, 1.4646, 1.4646, 1.4646, 1.4646, 1.4646, 1.4646, 1.4646, 1.4646, 1.4646, 1.4646, 1.4646, 1.4646, 1.4646, 1.4646, 1.4646, 1.4646, 1.4646, 1.4646, 1.4646, 1.4635, 1.4627, 1.4627, 1.423, 1.2897, 1.0866, 1.1637, 1.2124, 1.2688, 1.2631, 0.9426, 0.9374, 1.0337, 1.332, 1.3236, 1.3232, 1.3231, 1.3225, 0.6206, 1.007, 1.0901, 0.4628, 0.9922, 1.1191, 0.9852, 0.8172, 0.6858, 0.3192, 0.5033, 0.7543, 0.153, 0.2811, 0.4228, 0.7521, 0.075, 0.5519, -0.03, -0.1007, 0.4732, 0.6376, 0.0435, -0.429, -0.6168, 0.1727, 0.1127, 0.0567, -0.368]}, \"token.table\": {\"Topic\": [2, 1, 4, 5, 5, 2, 1, 4, 5, 1, 2, 3, 4, 5, 5, 1, 3, 4, 5, 1, 4, 5, 1, 4, 4, 1, 2, 3, 4, 3, 2, 3, 1, 2, 3, 4, 5, 1, 1, 2, 3, 4, 5, 3, 2, 1, 2, 3, 4, 5, 3, 1, 2, 5, 1, 2, 3, 4, 5, 3, 1, 2, 3, 4, 5, 3, 5, 4, 2, 2, 1, 2, 3, 4, 5, 2, 5, 3, 4, 2, 1, 4, 1, 2, 3, 4, 3, 5, 1, 2, 3, 4, 5, 1, 2, 3, 4, 5, 4, 1, 2, 3, 2, 2, 3, 4, 5, 1, 2, 3, 4, 5, 1, 2, 3, 4, 5, 1, 2, 3, 4, 1, 1, 3, 5, 1, 3, 5, 5, 1, 2, 3, 4, 5, 1, 2, 3, 4, 5, 1, 2, 3, 4, 5, 1, 2, 3, 4, 5, 1, 2, 3, 4, 5, 2, 5, 3, 5, 5, 5, 2, 2, 1, 2, 3, 4, 5, 1, 2, 3, 4, 2, 3, 4, 5, 2, 4, 1, 4, 3, 5, 3, 1, 2, 3, 5, 2, 3, 4, 1, 2, 3, 4, 5, 1, 2, 3, 4, 5, 5, 1, 2, 3, 4, 5, 3, 4, 3, 3, 5, 3, 4, 5, 1, 2, 1, 3, 4, 5, 2, 3, 5, 1, 2, 4, 5, 1, 5, 1, 2, 3, 4, 5, 1, 3, 5, 1, 1, 3, 4, 5, 1, 2, 3, 4, 5, 1, 2, 4, 5, 4, 2, 3, 5, 2, 4, 5, 1, 2, 3, 4, 5, 1, 3, 4, 5, 2, 4, 5, 3, 1, 4, 5, 2, 3, 4, 5, 1, 2, 3, 4, 1, 2, 1, 2, 3, 4, 5, 4, 1, 2, 3, 4, 5, 1, 2, 3, 4, 5, 1, 2, 3, 4, 5, 3, 1, 2, 3, 4, 5, 3, 4, 1, 2, 4, 4, 1, 2, 3, 4, 5, 4, 1, 1, 2, 3, 4, 5, 1, 2, 3, 4, 5, 2, 3, 5, 4, 4, 1, 3, 1, 2, 3, 4, 5, 1, 2, 1, 2, 3, 4, 1, 2, 3, 4, 5, 2, 4, 5, 1, 4, 5, 1, 2, 3, 4, 5, 1, 4, 1, 2, 3, 5, 1, 3, 1, 2, 3, 4, 2, 1, 2, 3, 5, 1, 2, 3, 4, 5, 1, 4, 1, 2, 3, 4, 5, 1, 2, 3, 4, 5, 3, 1, 3, 4, 5, 1, 2, 3, 4, 1, 2, 5, 3, 1, 3, 1, 2, 3, 4, 5, 4, 3, 1, 2, 3, 4, 5, 2, 3, 4, 2, 2, 4, 1, 2, 3, 5, 5, 2, 5, 4, 1, 4, 4, 1, 2, 3, 4, 2, 3, 4, 1, 2, 3, 4, 5, 2, 4, 5, 1, 2, 3, 4, 5, 2, 3, 4, 4, 5, 1, 2, 3, 4, 5, 1, 2, 3, 4, 5, 1, 1, 2, 3, 4, 5, 1, 3, 5, 1, 2, 3, 4, 5, 1, 1, 2, 3, 4, 5, 1, 3, 4, 1, 2, 3, 5, 1, 1, 2, 3, 1, 1, 2, 5, 3, 4, 1, 2, 3, 4, 5, 1, 2, 3, 4, 5, 2, 5, 1, 2, 3, 1, 1, 2, 3, 4, 5, 2, 1, 4, 5, 3, 4, 2, 4, 1, 2, 3, 4, 5, 4, 4, 2, 1, 4, 2, 3, 4, 5, 4, 1, 4, 2, 1, 2, 4, 5, 1, 2, 4, 5, 2, 3, 1, 2, 3, 4, 2, 3, 2, 5, 1, 2, 3, 4, 5, 3, 2, 1, 2, 5, 1, 2, 3, 3, 4, 5, 1, 2, 3, 4, 5, 5, 2, 5, 4, 5, 1, 4, 3, 3, 3, 5, 2, 3, 4, 1, 3, 4, 5, 2, 3, 1, 3, 4, 4, 4, 1, 2, 3, 4, 5, 3, 1, 2, 3, 4, 5, 1, 2, 3, 4, 5, 1, 2, 3, 4, 5, 5, 5, 3, 1, 2, 3, 4, 5, 1, 2, 3, 4, 5, 3, 3, 1, 2, 3, 4, 5, 5, 1, 2, 5, 2, 3, 4, 5, 1, 1, 2, 3, 4, 5, 4, 1, 2, 3, 4, 5, 1, 4, 5, 1, 2, 3, 5, 1, 2, 3, 4, 5, 2, 3, 1, 2, 3, 4, 5, 1, 2, 3, 4, 5, 5, 2, 1, 3, 5, 5, 2, 3, 5, 1, 2, 3, 4, 1, 2, 3, 5, 3, 4, 5, 4, 5, 2, 1, 2, 3, 4, 5, 5, 1, 4, 1, 1, 2, 3, 4, 5, 4, 2, 1, 3, 5, 1, 2, 3, 4, 5, 2, 1, 2, 3, 4, 5, 5, 2, 4, 5, 1, 3, 5, 1, 4, 1, 2, 3, 4, 5, 4, 1, 2, 3, 4, 5, 1, 2, 3, 4, 5, 1, 2, 3, 4, 5, 5, 3, 1, 2, 3, 4, 5, 1, 2, 3, 5, 1, 2, 3, 4, 5, 5], \"Freq\": [0.6474630849451715, 0.8634031182388259, 0.22470161697578342, 0.6741048509273503, 0.8948315981401818, 0.864658651895268, 0.13410946111342437, 0.5364378444536975, 0.26821892222684873, 0.08210070307101816, 0.2052517576775454, 0.32840281228407264, 0.2052517576775454, 0.2052517576775454, 0.894831594212405, 0.43590984917527403, 0.1743639396701096, 0.26154590950516443, 0.0871819698350548, 0.26574533953649443, 0.5314906790729889, 0.8948315720475608, 0.26574379685630745, 0.5314875937126149, 0.8912470401836847, 0.13744504489590495, 0.4123351346877148, 0.2061675673438574, 0.2748900897918099, 0.8660352123617718, 0.8646586450001015, 0.6486207610078742, 0.1305854405922814, 0.3917563217768441, 0.19587816088842205, 0.1305854405922814, 0.1305854405922814, 0.8634031178856604, 0.2951618028913358, 0.11806472115653432, 0.4722588846261373, 0.11806472115653432, 0.05903236057826716, 0.8660352131189338, 0.7762153407468061, 0.30075323210466987, 0.3508787707887815, 0.1002510773682233, 0.15037661605233493, 0.1002510773682233, 0.8660352095172676, 0.29509122682259076, 0.14754561341129538, 0.5901824536451815, 0.20254258215478535, 0.0759534683080445, 0.303813873232178, 0.20254258215478535, 0.2278604049241335, 0.8660352079930801, 0.12005876188992516, 0.24011752377985032, 0.12005876188992516, 0.06002938094496258, 0.42020566661473807, 0.8660352145595026, 0.8948315975982355, 0.8912470526262816, 0.6474630913022177, 0.8646586384921051, 0.16547935903410202, 0.08273967951705101, 0.16547935903410202, 0.4964380771023061, 0.08273967951705101, 0.7448406480646431, 0.18621016201616078, 0.8660352049783424, 0.8912470609119642, 0.8646586495222074, 0.8634031038569073, 0.8912470553417282, 0.08640262388392791, 0.17280524776785583, 0.6912209910714233, 0.08640262388392791, 0.2669497891258924, 0.5338995782517848, 0.8634031162687267, 0.18105222038466182, 0.18105222038466182, 0.603507401282206, 0.06035074012822061, 0.2453797946582328, 0.3271730595443104, 0.1226898973291164, 0.1635865297721552, 0.1635865297721552, 0.8912470364210991, 0.8634031133231926, 0.8646586505564049, 0.648621106302507, 0.8646586475315176, 0.19002632465017297, 0.19002632465017297, 0.47506581162543243, 0.19002632465017297, 0.07773599594126682, 0.07773599594126682, 0.38867997970633406, 0.15547199188253363, 0.38867997970633406, 0.6464364667523694, 0.14803663812297763, 0.14803663812297763, 0.5921465524919105, 0.14803663812297763, 0.30459106319000856, 0.15229553159500428, 0.4568865947850128, 0.07614776579750214, 0.6464072979269887, 0.5768291403096139, 0.2884145701548069, 0.14420728507740346, 0.21622172281324406, 0.6486651684397321, 0.10811086140662203, 0.6729502608380618, 0.22874106050997786, 0.22874106050997786, 0.4193586109349594, 0.07624702016999263, 0.038123510084996315, 0.43576246612953384, 0.18675534262694307, 0.12450356175129539, 0.12450356175129539, 0.18675534262694307, 0.27731070764157584, 0.06932767691039396, 0.27731070764157584, 0.13865535382078792, 0.34663838455196977, 0.06551268698197957, 0.19653806094593873, 0.458588808873857, 0.13102537396395914, 0.19653806094593873, 0.08293085801775965, 0.1658617160355193, 0.1658617160355193, 0.1658617160355193, 0.4146542900887983, 0.5619349858266197, 0.37462332388441316, 0.6529498524082888, 0.21764995080276292, 0.8948316063323586, 0.8947698033267781, 0.8646586453016109, 0.6474630940350955, 0.2112966919748144, 0.1056483459874072, 0.1056483459874072, 0.3169450379622216, 0.1584725189811108, 0.1198224288276267, 0.2396448576552534, 0.2396448576552534, 0.4792897153105068, 0.4381854986361838, 0.10954637465904594, 0.2190927493180919, 0.2190927493180919, 0.651271253535065, 0.21709041784502167, 0.6464777241772123, 0.8912470592290891, 0.26695204263635086, 0.5339040852727017, 0.8660352102164148, 0.4578660685114673, 0.15262202283715576, 0.22893303425573364, 0.15262202283715576, 0.2081346778631623, 0.6244040335894869, 0.15610100839737173, 0.0767867182252684, 0.5375070275768788, 0.1535734364505368, 0.1535734364505368, 0.0767867182252684, 0.15858903614261274, 0.15858903614261274, 0.15858903614261274, 0.37004108433276306, 0.15858903614261274, 0.8948316019219341, 0.24395627530448816, 0.4879125506089763, 0.08131875843482939, 0.16263751686965877, 0.08131875843482939, 0.8660352128444693, 0.8912377119049735, 0.866035214204931, 0.26694548413211133, 0.5338909682642227, 0.19092904324748455, 0.3818580864949691, 0.3818580864949691, 0.5531492698948125, 0.36876617992987504, 0.1744138181947163, 0.523241454584149, 0.1744138181947163, 0.1744138181947163, 0.5806528073025076, 0.1451632018256269, 0.2903264036512538, 0.40047711049794166, 0.11442203157084048, 0.22884406314168096, 0.22884406314168096, 0.6464151236514646, 0.6729502723465944, 0.1271889672012903, 0.3815669016038709, 0.28617517620290317, 0.06359448360064515, 0.15898620900161287, 0.2662477335250729, 0.13312386676253646, 0.6656193338126822, 0.8634031137770644, 0.49210422306929985, 0.10935649401539997, 0.21871298803079994, 0.16403474102309995, 0.2630859712345574, 0.1315429856172787, 0.21923830936213118, 0.3069336331069837, 0.1315429856172787, 0.07006334482796081, 0.21019003448388243, 0.5605067586236865, 0.14012668965592162, 0.891237714215971, 0.11915532442410358, 0.5957766221205179, 0.23831064884820716, 0.12200616413244421, 0.610030820662221, 0.24401232826488842, 0.14714059113771155, 0.07357029556885578, 0.14714059113771155, 0.3678514778442789, 0.14714059113771155, 0.13344743945894144, 0.13344743945894144, 0.5337897578357658, 0.2668948789178829, 0.1488541899683233, 0.5954167598732932, 0.2977083799366466, 0.866035213731316, 0.863403114190913, 0.8912470564432732, 0.8948315894730855, 0.5575724814611784, 0.18585749382039282, 0.18585749382039282, 0.8948316092239101, 0.22863496180862872, 0.07621165393620957, 0.6096932314896766, 0.07621165393620957, 0.2868644472615363, 0.7171611181538408, 0.08858254346367506, 0.26574763039102517, 0.08858254346367506, 0.1771650869273501, 0.4429127173183753, 0.6699108814516725, 0.21788298856370525, 0.0871531954254821, 0.3921893794146694, 0.0871531954254821, 0.21788298856370525, 0.18516730434734296, 0.5555019130420289, 0.18516730434734296, 0.09258365217367148, 0.04629182608683574, 0.20391175998033023, 0.05097793999508256, 0.20391175998033023, 0.05097793999508256, 0.5097793999508256, 0.8660352171291789, 0.16645087494351996, 0.3994820998644479, 0.2996115748983359, 0.03329017498870399, 0.11651561246046396, 0.652313284541034, 0.21743776151367797, 0.23560375175794732, 0.6282766713545263, 0.11780187587897366, 0.891247054298537, 0.2541167478362764, 0.10164669913451056, 0.15247004870176584, 0.4574101461052975, 0.10164669913451056, 0.8912470603391834, 0.6464072890739602, 0.17438879218714434, 0.39237478242107476, 0.13079159414035824, 0.17438879218714434, 0.13079159414035824, 0.23296204718653307, 0.11648102359326654, 0.1553080314576887, 0.3106160629153774, 0.1941350393221109, 0.21582057088117468, 0.647461712643524, 0.672950265435549, 0.8912470422806781, 0.8912470548712459, 0.21574247838228733, 0.647227435146862, 0.3111911006100264, 0.172883944783348, 0.1210187613483436, 0.1210187613483436, 0.259325917175022, 0.9020989044982357, 0.6474630930605743, 0.23005823936062852, 0.11502911968031426, 0.11502911968031426, 0.5751455984015713, 0.2105827037897389, 0.15793702784230418, 0.2105827037897389, 0.10529135189486945, 0.31587405568460836, 0.8646586408777679, 0.8912470474035893, 0.8948316043274364, 0.11175154067745965, 0.7822607847422176, 0.11175154067745965, 0.3657112962920394, 0.28444211933825286, 0.16253835390757307, 0.16253835390757307, 0.04063458847689327, 0.2657464154672998, 0.5314928309345996, 0.12004264688304957, 0.24008529376609913, 0.12004264688304957, 0.48017058753219827, 0.5535252869565664, 0.3690168579710443, 0.39597555099744325, 0.28798221890723147, 0.2159866641804236, 0.1079933320902118, 0.8646586524452006, 0.5308603683135138, 0.23593794147267277, 0.11796897073633639, 0.11796897073633639, 0.29682489952433877, 0.29682489952433877, 0.22261867464325408, 0.037103112440542346, 0.11130933732162704, 0.2657389862521392, 0.5314779725042784, 0.08256426462881104, 0.24769279388643314, 0.1651285292576221, 0.20641066157202761, 0.28897492620083864, 0.1858033086938738, 0.0929016543469369, 0.5574099260816213, 0.0929016543469369, 0.0929016543469369, 0.8636239821633701, 0.07794882157061869, 0.3897441078530935, 0.15589764314123739, 0.3897441078530935, 0.3014950424870838, 0.1507475212435419, 0.2512458687392365, 0.3014950424870838, 0.5571511094928266, 0.18571703649760887, 0.18571703649760887, 0.8660352156971576, 0.6464073028040793, 0.8660352144750637, 0.3070703049096917, 0.49131248785550674, 0.18424218294581504, 0.38522566327735913, 0.5778384949160387, 0.8912470622261979, 0.8660352178781171, 0.11037202653505873, 0.1655580398025881, 0.1655580398025881, 0.3311160796051762, 0.22074405307011746, 0.5441145075877395, 0.21764580303509581, 0.21764580303509581, 0.6474831482014772, 0.6474631010502814, 0.669910880234521, 0.17973645831138, 0.35947291662276, 0.05991215277046, 0.41938506939322, 0.8948316021685425, 0.5227465757590487, 0.26137328787952435, 0.8912469988643601, 0.6503240160241825, 0.21677467200806086, 0.891247051935048, 0.1737156184869875, 0.4342890462174688, 0.1737156184869875, 0.26057342773048126, 0.16613038432549937, 0.16613038432549937, 0.6645215373019975, 0.23713065478965986, 0.41497864588190475, 0.11856532739482993, 0.059282663697414965, 0.1778479910922449, 0.20579943816653548, 0.6173983144996064, 0.20579943816653548, 0.22623363988689082, 0.15082242659126055, 0.11311681994344541, 0.22623363988689082, 0.26393924653470596, 0.5191690995930395, 0.25958454979651974, 0.12979227489825987, 0.5372812234485881, 0.26864061172429404, 0.3289681007420677, 0.3146651398402387, 0.14302960901829032, 0.11442368721463225, 0.08581776541097419, 0.24003525016297214, 0.12001762508148607, 0.4800705003259443, 0.08001175005432404, 0.08001175005432404, 0.8634031131346571, 0.3261873390749029, 0.10036533509997012, 0.3010960052999104, 0.12545666887496265, 0.12545666887496265, 0.863403118806796, 0.866035207699606, 0.8948316094843425, 0.3476087101025626, 0.1738043550512813, 0.26070653257692195, 0.057934785017093766, 0.1738043550512813, 0.8634031165256575, 0.13931494377793324, 0.07960853930167613, 0.3980426965083807, 0.1791192134287713, 0.19902134825419035, 0.18518411461350878, 0.6481444011472807, 0.09259205730675439, 0.08110665757902671, 0.2027666439475668, 0.6082999318427004, 0.12165998636854009, 0.8634031177663143, 0.8634031141209877, 0.864658648978662, 0.6486206768413249, 0.7748666338541417, 0.6464072769719191, 0.6564647926063867, 0.32823239630319334, 0.2659915493867329, 0.5319830987734658, 0.31999046976584455, 0.07999761744146114, 0.07999761744146114, 0.35998927848657514, 0.15999523488292228, 0.14458974015827464, 0.21688461023741193, 0.46991665551439255, 0.07229487007913732, 0.10844230511870596, 0.8646586416080658, 0.8948316086856637, 0.5736278065580156, 0.1434069516395039, 0.2868139032790078, 0.8634031127537151, 0.2886749551928503, 0.18678967688949136, 0.23773231604117082, 0.1358470377378119, 0.16980879717226488, 0.8646586187790599, 0.8634031114967402, 0.26929442828979233, 0.5385888565795847, 0.6541803739007515, 0.3270901869503757, 0.22208964116664812, 0.6662689234999444, 0.5660896115617031, 0.11321792231234062, 0.11321792231234062, 0.11321792231234062, 0.11321792231234062, 0.8912470558753022, 0.8912470301929616, 0.8646586510326402, 0.74470819217078, 0.186177048042695, 0.2660623441135156, 0.08868744803783853, 0.08868744803783853, 0.5321246882270312, 0.6699108799749851, 0.6503223554013928, 0.21677411846713096, 0.8646586520272745, 0.8634031072107713, 0.19134621387361828, 0.19134621387361828, 0.5740386416208548, 0.36065007796025766, 0.12021669265341922, 0.3005417316335481, 0.24043338530683844, 0.6474630920359445, 0.8660352062855847, 0.0875872742822957, 0.3503490971291828, 0.1751745485645914, 0.43793637141147845, 0.2874559157704614, 0.7186397894261536, 0.26682182808030946, 0.5336436561606189, 0.10132456281968398, 0.20264912563936796, 0.3039736884590519, 0.15198684422952596, 0.25331140704920996, 0.8660352134035171, 0.8646586498125354, 0.863403116987178, 0.6519104417550688, 0.21730348058502294, 0.8060894381026326, 0.16121788762052652, 0.8660352109453142, 0.7262907106289179, 0.14525814212578358, 0.14525814212578358, 0.17728547722550866, 0.08864273861275433, 0.17728547722550866, 0.17728547722550866, 0.4432136930637717, 0.8947697987529967, 0.5227477867973838, 0.2613738933986919, 0.5372867641668984, 0.2686433820834492, 0.2657440546108114, 0.5314881092216228, 0.8660352160998794, 0.8660352164457705, 0.7271499256302612, 0.2908599702521044, 0.11989842863837073, 0.3596952859151122, 0.47959371455348293, 0.24166633427778345, 0.12083316713889172, 0.12083316713889172, 0.4833326685555669, 0.8646586289670376, 0.8660352078583954, 0.2368591177519658, 0.5921477943799145, 0.2368591177519658, 0.6699108733233667, 0.8912470603660536, 0.3581209192852563, 0.3581209192852563, 0.06511289441550114, 0.09766934162325172, 0.13022578883100228, 0.64862110217766, 0.3101851391147017, 0.07754628477867542, 0.15509256955735085, 0.3877314238933771, 0.15509256955735085, 0.39567057893490953, 0.23740234736094573, 0.11870117368047287, 0.11870117368047287, 0.15826823157396383, 0.3405799879604429, 0.17028999398022146, 0.17028999398022146, 0.22705332530696196, 0.05676333132674049, 0.8948316066793238, 0.8948315854571631, 0.6486211106547336, 0.16126374740340993, 0.3494047860407215, 0.05375458246780331, 0.21501832987121325, 0.21501832987121325, 0.30952153853997755, 0.24073897441998252, 0.1719564102999875, 0.1719564102999875, 0.1031738461799925, 0.8660352177308922, 0.8660352155937713, 0.1252779859532286, 0.18791697892984288, 0.31319496488307147, 0.0626389929766143, 0.31319496488307147, 0.8948316031411568, 0.7748666301970409, 0.6474630859403103, 0.8948315978493454, 0.8646586414067514, 0.6546519020795812, 0.1636629755198953, 0.1636629755198953, 0.86340311702128, 0.04228788380424426, 0.2537273028254656, 0.38059095423819833, 0.16915153521697704, 0.16915153521697704, 0.8049592378166716, 0.046876380927059765, 0.1406291427811793, 0.4218874283435379, 0.23438190463529882, 0.09375276185411953, 0.10332667681617339, 0.41330670726469354, 0.41330670726469354, 0.4578623363045047, 0.22893116815225234, 0.15262077876816824, 0.15262077876816824, 0.16324390369728414, 0.16324390369728414, 0.4489207351675314, 0.12243292777296311, 0.12243292777296311, 0.2158206108741277, 0.6474618326223831, 0.19747932652521027, 0.39495865305042055, 0.15798346122016824, 0.07899173061008412, 0.15798346122016824, 0.19373792985194077, 0.14530344738895556, 0.33904137724089634, 0.14530344738895556, 0.14530344738895556, 0.8948315988919726, 0.6474630849860876, 0.6457540240271642, 0.21525134134238805, 0.894791169198528, 0.8948315854571631, 0.16575773254968387, 0.33151546509936775, 0.4972731976490516, 0.17568953271068166, 0.17568953271068166, 0.17568953271068166, 0.43922383177670415, 0.4550949691164777, 0.195040701049919, 0.195040701049919, 0.195040701049919, 0.6546516289233609, 0.16366290723084023, 0.16366290723084023, 0.8912470598119716, 0.8948315963222414, 0.6474630790371426, 0.12375680723234145, 0.2475136144646829, 0.4331488253131951, 0.12375680723234145, 0.061878403616170724, 0.8948315885586116, 0.26574467892562226, 0.5314893578512445, 0.6464072894229127, 0.5183228819782405, 0.11106918899533726, 0.25916144098912025, 0.0740461259968915, 0.0740461259968915, 0.8912470626696102, 0.8646586490870283, 0.6509118255033233, 0.16272795637583082, 0.16272795637583082, 0.19772972075006404, 0.11863783245003842, 0.4350053856501409, 0.07909188830002561, 0.15818377660005123, 0.6474630927685266, 0.3163504183253453, 0.18077166761448302, 0.13557875071086226, 0.18077166761448302, 0.18077166761448302, 0.8948315854571631, 0.5261689785513325, 0.26308448927566624, 0.13154224463783312, 0.16270245124401014, 0.6508098049760406, 0.16270245124401014, 0.8634031184393999, 0.8912470509434541, 0.20796412465139352, 0.3119461869770903, 0.3119461869770903, 0.10398206232569676, 0.05199103116284838, 0.8912470575099215, 0.23060713995055854, 0.16142499796539098, 0.23060713995055854, 0.06918214198516756, 0.32284999593078195, 0.10047654938062754, 0.3014296481418826, 0.3014296481418826, 0.20095309876125508, 0.10047654938062754, 0.16715679216346924, 0.16715679216346924, 0.16715679216346924, 0.2971676305128342, 0.18572976907052138, 0.8948316084216182, 0.8660352162265998, 0.40273230220245937, 0.3132362350463573, 0.1342441007341531, 0.04474803357805104, 0.08949606715610207, 0.4979694153271984, 0.19918776613087935, 0.19918776613087935, 0.09959388306543968, 0.25785231983757134, 0.2256207798578749, 0.25785231983757134, 0.09669461993908925, 0.14504192990863388, 0.8948316210003011], \"Term\": [\"100\", \"80s\", \"abandon\", \"abandon\", \"abduct\", \"activ\", \"actor\", \"actor\", \"actor\", \"adventur\", \"adventur\", \"adventur\", \"adventur\", \"adventur\", \"aerobat\", \"agent\", \"agent\", \"agent\", \"agent\", \"agre\", \"agre\", \"ajin\", \"amateur\", \"amateur\", \"analyst\", \"anim\", \"anim\", \"anim\", \"anim\", \"answer\", \"apprais\", \"arrang\", \"artist\", \"artist\", \"artist\", \"artist\", \"artist\", \"attorney\", \"base\", \"base\", \"base\", \"base\", \"base\", \"basebal\", \"basketbal\", \"battl\", \"battl\", \"battl\", \"battl\", \"battl\", \"bawdi\", \"beauti\", \"beauti\", \"beauti\", \"becom\", \"becom\", \"becom\", \"becom\", \"becom\", \"beep\", \"begin\", \"begin\", \"begin\", \"begin\", \"begin\", \"belief\", \"believ\", \"berlin\", \"betray\", \"bibi\", \"big\", \"big\", \"big\", \"big\", \"big\", \"birth\", \"birth\", \"bitter\", \"blackmail\", \"blend\", \"blind\", \"blow\", \"bond\", \"bond\", \"bond\", \"bond\", \"brain\", \"brain\", \"bright\", \"bring\", \"bring\", \"bring\", \"bring\", \"brother\", \"brother\", \"brother\", \"brother\", \"brother\", \"bureaucraci\", \"burn\", \"canadian\", \"cannabi\", \"carter\", \"caught\", \"caught\", \"caught\", \"caught\", \"celebr\", \"celebr\", \"celebr\", \"celebr\", \"celebr\", \"cell\", \"center\", \"center\", \"center\", \"center\", \"chang\", \"chang\", \"chang\", \"chang\", \"cheat\", \"childhood\", \"childhood\", \"childhood\", \"children\", \"children\", \"children\", \"closer\", \"come\", \"come\", \"come\", \"come\", \"come\", \"comedi\", \"comedi\", \"comedi\", \"comedi\", \"comedi\", \"comedian\", \"comedian\", \"comedian\", \"comedian\", \"comedian\", \"comic\", \"comic\", \"comic\", \"comic\", \"comic\", \"competit\", \"competit\", \"competit\", \"competit\", \"competit\", \"complic\", \"complic\", \"comput\", \"comput\", \"confess\", \"confin\", \"consequ\", \"continu\", \"cop\", \"cop\", \"cop\", \"cop\", \"cop\", \"countri\", \"countri\", \"countri\", \"countri\", \"creatur\", \"creatur\", \"creatur\", \"creatur\", \"crook\", \"crook\", \"cross\", \"cun\", \"curious\", \"curious\", \"cyborg\", \"dark\", \"dark\", \"dark\", \"dark\", \"daughter\", \"daughter\", \"daughter\", \"day\", \"day\", \"day\", \"day\", \"day\", \"death\", \"death\", \"death\", \"death\", \"death\", \"debaucheri\", \"decid\", \"decid\", \"decid\", \"decid\", \"decid\", \"defi\", \"degre\", \"denver\", \"depart\", \"depart\", \"determin\", \"determin\", \"determin\", \"devot\", \"devot\", \"differ\", \"differ\", \"differ\", \"differ\", \"disappear\", \"disappear\", \"disappear\", \"discov\", \"discov\", \"discov\", \"discov\", \"disillus\", \"dispar\", \"documentari\", \"documentari\", \"documentari\", \"documentari\", \"documentari\", \"dog\", \"dog\", \"dog\", \"domest\", \"drama\", \"drama\", \"drama\", \"drama\", \"dream\", \"dream\", \"dream\", \"dream\", \"dream\", \"drug\", \"drug\", \"drug\", \"drug\", \"dubious\", \"earth\", \"earth\", \"earth\", \"elit\", \"elit\", \"elit\", \"embark\", \"embark\", \"embark\", \"embark\", \"embark\", \"enemi\", \"enemi\", \"enemi\", \"enemi\", \"enter\", \"enter\", \"enter\", \"enterpris\", \"entrepreneur\", \"entri\", \"environ\", \"epic\", \"epic\", \"epic\", \"error\", \"event\", \"event\", \"event\", \"event\", \"everyth\", \"everyth\", \"evil\", \"evil\", \"evil\", \"evil\", \"evil\", \"excel\", \"explor\", \"explor\", \"explor\", \"explor\", \"explor\", \"face\", \"face\", \"face\", \"face\", \"face\", \"fall\", \"fall\", \"fall\", \"fall\", \"fall\", \"fallout\", \"famili\", \"famili\", \"famili\", \"famili\", \"famili\", \"fan\", \"fan\", \"father\", \"father\", \"father\", \"favorit\", \"film\", \"film\", \"film\", \"film\", \"film\", \"finer\", \"flame\", \"follow\", \"follow\", \"follow\", \"follow\", \"follow\", \"forc\", \"forc\", \"forc\", \"forc\", \"forc\", \"form\", \"form\", \"fortun\", \"fourth\", \"franchis\", \"french\", \"french\", \"friend\", \"friend\", \"friend\", \"friend\", \"friend\", \"friendship\", \"fund\", \"game\", \"game\", \"game\", \"game\", \"girl\", \"girl\", \"girl\", \"girl\", \"girl\", \"gold\", \"gone\", \"gori\", \"govern\", \"govern\", \"govern\", \"group\", \"group\", \"group\", \"group\", \"group\", \"gruel\", \"gruel\", \"haunt\", \"haunt\", \"haunt\", \"haunt\", \"heir\", \"heir\", \"help\", \"help\", \"help\", \"help\", \"heroin\", \"hes\", \"hes\", \"hes\", \"hes\", \"high\", \"high\", \"high\", \"high\", \"high\", \"holiday\", \"holiday\", \"home\", \"home\", \"home\", \"home\", \"home\", \"hope\", \"hope\", \"hope\", \"hope\", \"hope\", \"hors\", \"human\", \"human\", \"human\", \"human\", \"husband\", \"husband\", \"husband\", \"husband\", \"ii\", \"ii\", \"ii\", \"impress\", \"indonesia\", \"influenc\", \"inspir\", \"inspir\", \"inspir\", \"intern\", \"intern\", \"intimid\", \"invad\", \"investig\", \"investig\", \"investig\", \"investig\", \"investig\", \"island\", \"island\", \"island\", \"jack\", \"jake\", \"joseon\", \"journey\", \"journey\", \"journey\", \"journey\", \"joy\", \"juggl\", \"juggl\", \"kimmi\", \"la\", \"la\", \"labor\", \"land\", \"land\", \"land\", \"land\", \"lawyer\", \"lawyer\", \"lawyer\", \"lead\", \"lead\", \"lead\", \"lead\", \"lead\", \"leader\", \"leader\", \"leader\", \"learn\", \"learn\", \"learn\", \"learn\", \"learn\", \"legendari\", \"legendari\", \"legendari\", \"lethal\", \"lethal\", \"life\", \"life\", \"life\", \"life\", \"life\", \"live\", \"live\", \"live\", \"live\", \"live\", \"loneli\", \"love\", \"love\", \"love\", \"love\", \"love\", \"loyal\", \"lui\", \"madcap\", \"make\", \"make\", \"make\", \"make\", \"make\", \"mall\", \"man\", \"man\", \"man\", \"man\", \"man\", \"marriag\", \"marriag\", \"marriag\", \"meet\", \"meet\", \"meet\", \"meet\", \"mental\", \"merliah\", \"miami\", \"michael\", \"mischief\", \"mistaken\", \"monster\", \"monster\", \"movement\", \"movement\", \"murder\", \"murder\", \"murder\", \"murder\", \"murder\", \"mysteri\", \"mysteri\", \"mysteri\", \"mysteri\", \"mysteri\", \"narcot\", \"narrat\", \"neighbor\", \"neighbor\", \"neighbor\", \"neil\", \"new\", \"new\", \"new\", \"new\", \"new\", \"newman\", \"norman\", \"ocean\", \"ocean\", \"offer\", \"offer\", \"offici\", \"offici\", \"old\", \"old\", \"old\", \"old\", \"old\", \"op\", \"oppos\", \"paint\", \"path\", \"path\", \"peopl\", \"peopl\", \"peopl\", \"peopl\", \"perspect\", \"physic\", \"physic\", \"pianist\", \"pivot\", \"place\", \"place\", \"place\", \"plan\", \"plan\", \"plan\", \"plan\", \"poetri\", \"pole\", \"polic\", \"polic\", \"polic\", \"polic\", \"pop\", \"pop\", \"possess\", \"possess\", \"power\", \"power\", \"power\", \"power\", \"power\", \"precious\", \"primari\", \"prohibit\", \"promis\", \"promis\", \"protect\", \"protect\", \"punjabi\", \"question\", \"question\", \"question\", \"race\", \"race\", \"race\", \"race\", \"race\", \"reach\", \"readi\", \"readi\", \"record\", \"record\", \"resist\", \"resist\", \"restor\", \"retel\", \"reunit\", \"reunit\", \"rich\", \"rich\", \"rich\", \"road\", \"road\", \"road\", \"road\", \"robber\", \"rodney\", \"romanc\", \"romanc\", \"romanc\", \"ruthless\", \"said\", \"school\", \"school\", \"school\", \"school\", \"school\", \"schooler\", \"search\", \"search\", \"search\", \"search\", \"search\", \"secret\", \"secret\", \"secret\", \"secret\", \"secret\", \"seek\", \"seek\", \"seek\", \"seek\", \"seek\", \"select\", \"sensual\", \"sentenc\", \"seri\", \"seri\", \"seri\", \"seri\", \"seri\", \"set\", \"set\", \"set\", \"set\", \"set\", \"seth\", \"settl\", \"share\", \"share\", \"share\", \"share\", \"share\", \"shed\", \"shi\", \"shop\", \"showbiz\", \"slew\", \"solv\", \"solv\", \"solv\", \"someon\", \"son\", \"son\", \"son\", \"son\", \"son\", \"south\", \"special\", \"special\", \"special\", \"special\", \"special\", \"spirit\", \"spirit\", \"spirit\", \"start\", \"start\", \"start\", \"start\", \"stori\", \"stori\", \"stori\", \"stori\", \"stori\", \"stranger\", \"stranger\", \"struggl\", \"struggl\", \"struggl\", \"struggl\", \"struggl\", \"student\", \"student\", \"student\", \"student\", \"student\", \"succeed\", \"sugar\", \"suicid\", \"suicid\", \"superstit\", \"surfac\", \"surpris\", \"surpris\", \"surpris\", \"surviv\", \"surviv\", \"surviv\", \"surviv\", \"teenag\", \"teenag\", \"teenag\", \"teenag\", \"tell\", \"tell\", \"tell\", \"thief\", \"thinker\", \"tina\", \"togeth\", \"togeth\", \"togeth\", \"togeth\", \"togeth\", \"toughest\", \"tradit\", \"tradit\", \"trek\", \"tri\", \"tri\", \"tri\", \"tri\", \"tri\", \"tribal\", \"tribut\", \"trio\", \"trio\", \"trio\", \"true\", \"true\", \"true\", \"true\", \"true\", \"trust\", \"turn\", \"turn\", \"turn\", \"turn\", \"turn\", \"unforeseen\", \"unit\", \"unit\", \"unit\", \"unravel\", \"unravel\", \"unravel\", \"viral\", \"washington\", \"wife\", \"wife\", \"wife\", \"wife\", \"wife\", \"william\", \"woman\", \"woman\", \"woman\", \"woman\", \"woman\", \"work\", \"work\", \"work\", \"work\", \"work\", \"world\", \"world\", \"world\", \"world\", \"world\", \"worldweari\", \"worldwid\", \"year\", \"year\", \"year\", \"year\", \"year\", \"york\", \"york\", \"york\", \"york\", \"young\", \"young\", \"young\", \"young\", \"young\", \"younger\"]}, \"R\": 30, \"lambda.step\": 0.01, \"plot.opts\": {\"xlab\": \"PC1\", \"ylab\": \"PC2\"}, \"topic.order\": [2, 3, 4, 5, 1]};\n",
              "\n",
              "function LDAvis_load_lib(url, callback){\n",
              "  var s = document.createElement('script');\n",
              "  s.src = url;\n",
              "  s.async = true;\n",
              "  s.onreadystatechange = s.onload = callback;\n",
              "  s.onerror = function(){console.warn(\"failed to load library \" + url);};\n",
              "  document.getElementsByTagName(\"head\")[0].appendChild(s);\n",
              "}\n",
              "\n",
              "if(typeof(LDAvis) !== \"undefined\"){\n",
              "   // already loaded: just create the visualization\n",
              "   !function(LDAvis){\n",
              "       new LDAvis(\"#\" + \"ldavis_el3971399542327926568193869973\", ldavis_el3971399542327926568193869973_data);\n",
              "   }(LDAvis);\n",
              "}else if(typeof define === \"function\" && define.amd){\n",
              "   // require.js is available: use it to load d3/LDAvis\n",
              "   require.config({paths: {d3: \"https://d3js.org/d3.v5\"}});\n",
              "   require([\"d3\"], function(d3){\n",
              "      window.d3 = d3;\n",
              "      LDAvis_load_lib(\"https://cdn.jsdelivr.net/gh/bmabey/pyLDAvis@3.3.1/pyLDAvis/js/ldavis.v3.0.0.js\", function(){\n",
              "        new LDAvis(\"#\" + \"ldavis_el3971399542327926568193869973\", ldavis_el3971399542327926568193869973_data);\n",
              "      });\n",
              "    });\n",
              "}else{\n",
              "    // require.js not available: dynamically load d3 & LDAvis\n",
              "    LDAvis_load_lib(\"https://d3js.org/d3.v5.js\", function(){\n",
              "         LDAvis_load_lib(\"https://cdn.jsdelivr.net/gh/bmabey/pyLDAvis@3.3.1/pyLDAvis/js/ldavis.v3.0.0.js\", function(){\n",
              "                 new LDAvis(\"#\" + \"ldavis_el3971399542327926568193869973\", ldavis_el3971399542327926568193869973_data);\n",
              "            })\n",
              "         });\n",
              "}\n",
              "</script>"
            ],
            "text/plain": [
              "PreparedData(topic_coordinates=                x           y  topics  cluster       Freq\n",
              "topic                                                    \n",
              "1      150.222153  -72.269554       1        1  22.115760\n",
              "2       51.163364 -159.968018       2        1  22.017656\n",
              "3      -73.144554   21.523815       3        1  21.732470\n",
              "4      -66.410133 -110.606438       4        1  17.366276\n",
              "0       54.417324   12.443444       5        1  16.767837, topic_info=          Term       Freq      Total Category  logprob  loglift\n",
              "1533    father  25.000000  25.000000  Default  30.0000  30.0000\n",
              "1087  daughter  19.000000  19.000000  Default  29.0000  29.0000\n",
              "1610      game  17.000000  17.000000  Default  28.0000  28.0000\n",
              "602      bring  16.000000  16.000000  Default  27.0000  27.0000\n",
              "2125      meet  24.000000  24.000000  Default  26.0000  26.0000\n",
              "...        ...        ...        ...      ...      ...      ...\n",
              "1982      life   6.326988  69.915593   Topic5  -5.8325  -0.6168\n",
              "1503    explor   4.573433  22.948097   Topic5  -6.1571   0.1727\n",
              "146   adventur   4.571860  24.360327   Topic5  -6.1574   0.1127\n",
              "1574      forc   4.570614  25.755268   Topic5  -6.1577   0.0567\n",
              "2047      love   4.625441  39.854398   Topic5  -6.1458  -0.3680\n",
              "\n",
              "[413 rows x 6 columns], token_table=      Topic      Freq     Term\n",
              "term                          \n",
              "2         2  0.647463      100\n",
              "83        1  0.863403      80s\n",
              "90        4  0.224702  abandon\n",
              "90        5  0.674105  abandon\n",
              "92        5  0.894832   abduct\n",
              "...     ...       ...      ...\n",
              "3985      2  0.225621    young\n",
              "3985      3  0.257852    young\n",
              "3985      4  0.096695    young\n",
              "3985      5  0.145042    young\n",
              "3986      5  0.894832  younger\n",
              "\n",
              "[813 rows x 3 columns], R=30, lambda_step=0.01, plot_opts={'xlab': 'PC1', 'ylab': 'PC2'}, topic_order=[2, 3, 4, 5, 1])"
            ]
          },
          "metadata": {},
          "execution_count": 60
        }
      ]
    }
  ]
}